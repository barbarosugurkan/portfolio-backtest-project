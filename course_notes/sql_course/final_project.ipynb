{
 "cells": [
  {
   "cell_type": "code",
   "execution_count": 2,
   "id": "71899c71",
   "metadata": {},
   "outputs": [],
   "source": [
    "%load_ext sql\n",
    "%sql sqlite:///final_project_database.db\n",
    "%config SqlMagic.style = '_DEPRECATED_DEFAULT'"
   ]
  },
  {
   "cell_type": "code",
   "execution_count": 1,
   "id": "b2028cbf",
   "metadata": {},
   "outputs": [
    {
     "name": "stdout",
     "output_type": "stream",
     "text": [
      "Veritabanı bağlantısı kuruldu.\n",
      "Veri yükleme işlemi başlıyor...\n",
      "'final_project_data/cheese_production.csv' dosyası başarıyla 'cheese_production' tablosuna yüklendi.\n",
      "'final_project_data/coffee_production.csv' dosyası başarıyla 'coffee_production' tablosuna yüklendi.\n",
      "'final_project_data/egg_production.csv' dosyası başarıyla 'egg_production' tablosuna yüklendi.\n",
      "'final_project_data/honey_production.csv' dosyası başarıyla 'honey_production' tablosuna yüklendi.\n",
      "'final_project_data/milk_production.csv' dosyası başarıyla 'milk_production' tablosuna yüklendi.\n",
      "'final_project_data/yogurt_production.csv' dosyası başarıyla 'yogurt_production' tablosuna yüklendi.\n",
      "'final_project_data/state_lookup.csv' dosyası başarıyla 'state_lookup' tablosuna yüklendi.\n",
      "Veritabanı bağlantısı kapatıldı.\n"
     ]
    }
   ],
   "source": [
    "import pandas as pd\n",
    "import sqlite3\n",
    "\n",
    "# 7 CSV dosyanızı ve hedef tablo adlarınızı tanımlayın\n",
    "csv_files = {\n",
    "    'cheese_production': 'final_project_data/cheese_production.csv',\n",
    "    'coffee_production': 'final_project_data/coffee_production.csv',\n",
    "    'egg_production': 'final_project_data/egg_production.csv',\n",
    "    'honey_production': 'final_project_data/honey_production.csv',\n",
    "    'milk_production': 'final_project_data/milk_production.csv',\n",
    "    'yogurt_production': 'final_project_data/yogurt_production.csv',\n",
    "    'state_lookup': 'final_project_data/state_lookup.csv'\n",
    "}\n",
    "\n",
    "# Veritabanı bağlantısını kurun\n",
    "conn = sqlite3.connect('final_project_database.db')\n",
    "print(\"Veritabanı bağlantısı kuruldu.\")\n",
    "\n",
    "print(\"Veri yükleme işlemi başlıyor...\")\n",
    "for table_name, file_path in csv_files.items():\n",
    "    try:\n",
    "        # CSV dosyasını okuyun\n",
    "        df = pd.read_csv(file_path)\n",
    "\n",
    "        # Veriyi veritabanına yazın\n",
    "        df.to_sql(table_name, conn, if_exists='replace', index=False)\n",
    "        \n",
    "        print(f\"'{file_path}' dosyası başarıyla '{table_name}' tablosuna yüklendi.\")\n",
    "    \n",
    "    except FileNotFoundError:\n",
    "        print(f\"Hata: '{file_path}' dosyası bulunamadı. Bu dosya atlanıyor.\")\n",
    "    except Exception as e:\n",
    "        print(f\"'{file_path}' yüklenirken bir hata oluştu: {e}\")\n",
    "\n",
    "# Veritabanı bağlantısını kapatın\n",
    "conn.close()\n",
    "print(\"Veritabanı bağlantısı kapatıldı.\")"
   ]
  },
  {
   "cell_type": "code",
   "execution_count": 10,
   "id": "c27c2b2d",
   "metadata": {},
   "outputs": [
    {
     "name": "stdout",
     "output_type": "stream",
     "text": [
      " * sqlite:///final_project_database.db\n",
      "7488 rows affected.\n",
      "1559 rows affected.\n",
      "37638 rows affected.\n",
      "71 rows affected.\n",
      "6327 rows affected.\n",
      "149 rows affected.\n"
     ]
    },
    {
     "data": {
      "text/plain": [
       "[]"
      ]
     },
     "execution_count": 10,
     "metadata": {},
     "output_type": "execute_result"
    }
   ],
   "source": [
    "%%sql\n",
    "UPDATE cheese_production SET value = REPLACE(value, ',', '');\n",
    "UPDATE honey_production SET value = REPLACE(value, ',', '');\n",
    "UPDATE milk_production SET value = REPLACE(value, ',', '');\n",
    "UPDATE coffee_production SET value = REPLACE(value, ',', '');\n",
    "UPDATE egg_production SET value = REPLACE(value, ',', '');\n",
    "UPDATE yogurt_production SET value = REPLACE(value, ',', '');"
   ]
  },
  {
   "cell_type": "markdown",
   "id": "0eea1d82",
   "metadata": {},
   "source": [
    "# Practise Questions"
   ]
  },
  {
   "cell_type": "markdown",
   "id": "9af5bd5a",
   "metadata": {},
   "source": [
    "Question 1\n",
    "\n",
    "Find the total milk production for the year 2023."
   ]
  },
  {
   "cell_type": "code",
   "execution_count": 6,
   "id": "5e21d2a4",
   "metadata": {},
   "outputs": [
    {
     "name": "stdout",
     "output_type": "stream",
     "text": [
      " * sqlite:///final_project_database.db\n",
      "Done.\n"
     ]
    },
    {
     "data": {
      "text/html": [
       "<table>\n",
       "    <thead>\n",
       "        <tr>\n",
       "            <th>SUM(Value)</th>\n",
       "        </tr>\n",
       "    </thead>\n",
       "    <tbody>\n",
       "        <tr>\n",
       "            <td>35947.0</td>\n",
       "        </tr>\n",
       "    </tbody>\n",
       "</table>"
      ],
      "text/plain": [
       "[(35947.0,)]"
      ]
     },
     "execution_count": 6,
     "metadata": {},
     "output_type": "execute_result"
    }
   ],
   "source": [
    "%%sql\n",
    "\n",
    "SELECT SUM(Value) FROM milk_production WHERE Year = 2023;"
   ]
  },
  {
   "cell_type": "markdown",
   "id": "3b6f87a1",
   "metadata": {},
   "source": [
    "Question 2\n",
    "\n",
    "Show coffee production data for the year 2015.\n",
    "\n",
    "What is the total value?"
   ]
  },
  {
   "cell_type": "code",
   "execution_count": 12,
   "id": "fe244f33",
   "metadata": {},
   "outputs": [
    {
     "name": "stdout",
     "output_type": "stream",
     "text": [
      " * sqlite:///final_project_database.db\n",
      "Done.\n"
     ]
    },
    {
     "data": {
      "text/html": [
       "<table>\n",
       "    <thead>\n",
       "        <tr>\n",
       "            <th>Year</th>\n",
       "            <th>Period</th>\n",
       "            <th>Geo_Level</th>\n",
       "            <th>State_ANSI</th>\n",
       "            <th>Commodity_ID</th>\n",
       "            <th>Value</th>\n",
       "        </tr>\n",
       "    </thead>\n",
       "    <tbody>\n",
       "        <tr>\n",
       "            <td>2015</td>\n",
       "            <td>YEAR</td>\n",
       "            <td>STATE</td>\n",
       "            <td>15</td>\n",
       "            <td>1</td>\n",
       "            <td>6,600,000</td>\n",
       "        </tr>\n",
       "    </tbody>\n",
       "</table>"
      ],
      "text/plain": [
       "[(2015, 'YEAR', 'STATE', 15, 1, '6,600,000')]"
      ]
     },
     "execution_count": 12,
     "metadata": {},
     "output_type": "execute_result"
    }
   ],
   "source": [
    "%%sql\n",
    "\n",
    "SELECT *\n",
    "FROM coffee_production\n",
    "WHERE Year=2015"
   ]
  },
  {
   "cell_type": "markdown",
   "id": "11b73bee",
   "metadata": {},
   "source": [
    "Question 3\n",
    "\n",
    "Find the average honey production for the year 2022."
   ]
  },
  {
   "cell_type": "code",
   "execution_count": 7,
   "id": "f629b8d9",
   "metadata": {},
   "outputs": [
    {
     "name": "stdout",
     "output_type": "stream",
     "text": [
      " * sqlite:///final_project_database.db\n",
      "Done.\n"
     ]
    },
    {
     "data": {
      "text/html": [
       "<table>\n",
       "    <thead>\n",
       "        <tr>\n",
       "            <th>AVG(Value)</th>\n",
       "        </tr>\n",
       "    </thead>\n",
       "    <tbody>\n",
       "        <tr>\n",
       "            <td>140.25</td>\n",
       "        </tr>\n",
       "    </tbody>\n",
       "</table>"
      ],
      "text/plain": [
       "[(140.25,)]"
      ]
     },
     "execution_count": 7,
     "metadata": {},
     "output_type": "execute_result"
    }
   ],
   "source": [
    "%%sql\n",
    "\n",
    "SELECT AVG(Value) FROM honey_production WHERE Year = 2022;"
   ]
  },
  {
   "cell_type": "markdown",
   "id": "0d5efc27",
   "metadata": {},
   "source": [
    "Question 4\n",
    "\n",
    "Get the state names with their corresponding ANSI codes from the state_lookup table.\n",
    "\n",
    "What number is Iowa?"
   ]
  },
  {
   "cell_type": "code",
   "execution_count": 16,
   "id": "cce9bdee",
   "metadata": {},
   "outputs": [
    {
     "name": "stdout",
     "output_type": "stream",
     "text": [
      " * sqlite:///final_project_database.db\n",
      "Done.\n"
     ]
    },
    {
     "data": {
      "text/html": [
       "<table>\n",
       "    <thead>\n",
       "        <tr>\n",
       "            <th>State</th>\n",
       "            <th>State_ANSI</th>\n",
       "        </tr>\n",
       "    </thead>\n",
       "    <tbody>\n",
       "        <tr>\n",
       "            <td>IOWA</td>\n",
       "            <td>19</td>\n",
       "        </tr>\n",
       "    </tbody>\n",
       "</table>"
      ],
      "text/plain": [
       "[('IOWA', 19)]"
      ]
     },
     "execution_count": 16,
     "metadata": {},
     "output_type": "execute_result"
    }
   ],
   "source": [
    "%%sql\n",
    "\n",
    "SELECT * FROM state_lookup\n",
    "WHERE State = \"IOWA\""
   ]
  },
  {
   "cell_type": "markdown",
   "id": "3af44064",
   "metadata": {},
   "source": [
    "Question 5\n",
    "\n",
    "Find the highest yogurt production value for the year 2022."
   ]
  },
  {
   "cell_type": "code",
   "execution_count": 18,
   "id": "116c34dd",
   "metadata": {},
   "outputs": [
    {
     "name": "stdout",
     "output_type": "stream",
     "text": [
      " * sqlite:///final_project_database.db\n",
      "Done.\n"
     ]
    },
    {
     "data": {
      "text/html": [
       "<table>\n",
       "    <thead>\n",
       "        <tr>\n",
       "            <th>MAX(Value)</th>\n",
       "        </tr>\n",
       "    </thead>\n",
       "    <tbody>\n",
       "        <tr>\n",
       "            <td>793,256,000</td>\n",
       "        </tr>\n",
       "    </tbody>\n",
       "</table>"
      ],
      "text/plain": [
       "[('793,256,000',)]"
      ]
     },
     "execution_count": 18,
     "metadata": {},
     "output_type": "execute_result"
    }
   ],
   "source": [
    "%%sql\n",
    "\n",
    "SELECT MAX(Value) \n",
    "FROM yogurt_production\n",
    "WHERE Year=2022"
   ]
  },
  {
   "cell_type": "markdown",
   "id": "a26cbd46",
   "metadata": {},
   "source": [
    "Question 6\n",
    "\n",
    "Find states where both honey and milk were produced in 2022."
   ]
  },
  {
   "cell_type": "code",
   "execution_count": 21,
   "id": "ae0d5208",
   "metadata": {},
   "outputs": [
    {
     "name": "stdout",
     "output_type": "stream",
     "text": [
      " * sqlite:///final_project_database.db\n",
      "Done.\n"
     ]
    },
    {
     "data": {
      "text/html": [
       "<table>\n",
       "    <thead>\n",
       "        <tr>\n",
       "            <th>State_ANSI</th>\n",
       "        </tr>\n",
       "    </thead>\n",
       "    <tbody>\n",
       "        <tr>\n",
       "            <td>1.0</td>\n",
       "        </tr>\n",
       "        <tr>\n",
       "            <td>4.0</td>\n",
       "        </tr>\n",
       "        <tr>\n",
       "            <td>5.0</td>\n",
       "        </tr>\n",
       "        <tr>\n",
       "            <td>6.0</td>\n",
       "        </tr>\n",
       "        <tr>\n",
       "            <td>8.0</td>\n",
       "        </tr>\n",
       "        <tr>\n",
       "            <td>12.0</td>\n",
       "        </tr>\n",
       "        <tr>\n",
       "            <td>13.0</td>\n",
       "        </tr>\n",
       "        <tr>\n",
       "            <td>16.0</td>\n",
       "        </tr>\n",
       "        <tr>\n",
       "            <td>17.0</td>\n",
       "        </tr>\n",
       "        <tr>\n",
       "            <td>18.0</td>\n",
       "        </tr>\n",
       "        <tr>\n",
       "            <td>19.0</td>\n",
       "        </tr>\n",
       "        <tr>\n",
       "            <td>20.0</td>\n",
       "        </tr>\n",
       "        <tr>\n",
       "            <td>21.0</td>\n",
       "        </tr>\n",
       "        <tr>\n",
       "            <td>22.0</td>\n",
       "        </tr>\n",
       "        <tr>\n",
       "            <td>23.0</td>\n",
       "        </tr>\n",
       "        <tr>\n",
       "            <td>26.0</td>\n",
       "        </tr>\n",
       "        <tr>\n",
       "            <td>27.0</td>\n",
       "        </tr>\n",
       "        <tr>\n",
       "            <td>28.0</td>\n",
       "        </tr>\n",
       "        <tr>\n",
       "            <td>29.0</td>\n",
       "        </tr>\n",
       "        <tr>\n",
       "            <td>30.0</td>\n",
       "        </tr>\n",
       "        <tr>\n",
       "            <td>31.0</td>\n",
       "        </tr>\n",
       "        <tr>\n",
       "            <td>34.0</td>\n",
       "        </tr>\n",
       "        <tr>\n",
       "            <td>36.0</td>\n",
       "        </tr>\n",
       "        <tr>\n",
       "            <td>37.0</td>\n",
       "        </tr>\n",
       "        <tr>\n",
       "            <td>38.0</td>\n",
       "        </tr>\n",
       "        <tr>\n",
       "            <td>39.0</td>\n",
       "        </tr>\n",
       "        <tr>\n",
       "            <td>41.0</td>\n",
       "        </tr>\n",
       "        <tr>\n",
       "            <td>42.0</td>\n",
       "        </tr>\n",
       "        <tr>\n",
       "            <td>45.0</td>\n",
       "        </tr>\n",
       "        <tr>\n",
       "            <td>46.0</td>\n",
       "        </tr>\n",
       "        <tr>\n",
       "            <td>47.0</td>\n",
       "        </tr>\n",
       "        <tr>\n",
       "            <td>48.0</td>\n",
       "        </tr>\n",
       "        <tr>\n",
       "            <td>49.0</td>\n",
       "        </tr>\n",
       "        <tr>\n",
       "            <td>50.0</td>\n",
       "        </tr>\n",
       "        <tr>\n",
       "            <td>51.0</td>\n",
       "        </tr>\n",
       "        <tr>\n",
       "            <td>53.0</td>\n",
       "        </tr>\n",
       "        <tr>\n",
       "            <td>54.0</td>\n",
       "        </tr>\n",
       "        <tr>\n",
       "            <td>55.0</td>\n",
       "        </tr>\n",
       "        <tr>\n",
       "            <td>56.0</td>\n",
       "        </tr>\n",
       "    </tbody>\n",
       "</table>"
      ],
      "text/plain": [
       "[(1.0,),\n",
       " (4.0,),\n",
       " (5.0,),\n",
       " (6.0,),\n",
       " (8.0,),\n",
       " (12.0,),\n",
       " (13.0,),\n",
       " (16.0,),\n",
       " (17.0,),\n",
       " (18.0,),\n",
       " (19.0,),\n",
       " (20.0,),\n",
       " (21.0,),\n",
       " (22.0,),\n",
       " (23.0,),\n",
       " (26.0,),\n",
       " (27.0,),\n",
       " (28.0,),\n",
       " (29.0,),\n",
       " (30.0,),\n",
       " (31.0,),\n",
       " (34.0,),\n",
       " (36.0,),\n",
       " (37.0,),\n",
       " (38.0,),\n",
       " (39.0,),\n",
       " (41.0,),\n",
       " (42.0,),\n",
       " (45.0,),\n",
       " (46.0,),\n",
       " (47.0,),\n",
       " (48.0,),\n",
       " (49.0,),\n",
       " (50.0,),\n",
       " (51.0,),\n",
       " (53.0,),\n",
       " (54.0,),\n",
       " (55.0,),\n",
       " (56.0,)]"
      ]
     },
     "execution_count": 21,
     "metadata": {},
     "output_type": "execute_result"
    }
   ],
   "source": [
    "%%sql\n",
    "\n",
    "SELECT DISTINCT T1.State_ANSI\n",
    "FROM honey_production AS T1\n",
    "INNER JOIN milk_production AS T2 ON T1.State_ANSI = T2.State_ANSI\n",
    "WHERE T1.Year = 2022 AND T2.Year = 2022;"
   ]
  },
  {
   "cell_type": "markdown",
   "id": "9e9b4802",
   "metadata": {},
   "source": [
    "Question 7\n",
    "\n",
    "Find the total yogurt production for states that also produced cheese in 2022."
   ]
  },
  {
   "cell_type": "code",
   "execution_count": 5,
   "id": "50257283",
   "metadata": {},
   "outputs": [
    {
     "name": "stdout",
     "output_type": "stream",
     "text": [
      " * sqlite:///final_project_database.db\n",
      "Done.\n"
     ]
    },
    {
     "data": {
      "text/html": [
       "<table>\n",
       "    <thead>\n",
       "        <tr>\n",
       "            <th>SUM(t1.Value)</th>\n",
       "        </tr>\n",
       "    </thead>\n",
       "    <tbody>\n",
       "        <tr>\n",
       "            <td>15210.0</td>\n",
       "        </tr>\n",
       "    </tbody>\n",
       "</table>"
      ],
      "text/plain": [
       "[(15210.0,)]"
      ]
     },
     "execution_count": 5,
     "metadata": {},
     "output_type": "execute_result"
    }
   ],
   "source": [
    "%%sql\n",
    "\n",
    "SELECT SUM(t1.Value)\n",
    "FROM yogurt_production t1\n",
    "INNER JOIN cheese_production t2 ON t2.State_ANSI = t1.State_ANSI\n",
    "WHERE t1.Year = 2022 AND t2.Year = 2022"
   ]
  },
  {
   "cell_type": "markdown",
   "id": "b010d948",
   "metadata": {},
   "source": [
    "# Final Project"
   ]
  },
  {
   "cell_type": "markdown",
   "id": "1f9aec78",
   "metadata": {},
   "source": [
    "Question 1\n",
    "\n",
    "Can you find out the total milk production for 2023? Your manager wants this information for the yearly report.\n",
    "\n",
    "What is the total milk production for 2023?"
   ]
  },
  {
   "cell_type": "code",
   "execution_count": 11,
   "id": "0cea092c",
   "metadata": {},
   "outputs": [
    {
     "name": "stdout",
     "output_type": "stream",
     "text": [
      " * sqlite:///final_project_database.db\n",
      "Done.\n"
     ]
    },
    {
     "data": {
      "text/html": [
       "<table>\n",
       "    <thead>\n",
       "        <tr>\n",
       "            <th>SUM(Value)</th>\n",
       "        </tr>\n",
       "    </thead>\n",
       "    <tbody>\n",
       "        <tr>\n",
       "            <td>91812000000</td>\n",
       "        </tr>\n",
       "    </tbody>\n",
       "</table>"
      ],
      "text/plain": [
       "[(91812000000,)]"
      ]
     },
     "execution_count": 11,
     "metadata": {},
     "output_type": "execute_result"
    }
   ],
   "source": [
    "%%sql\n",
    "\n",
    "SELECT SUM(Value) FROM milk_production WHERE Year = 2023"
   ]
  },
  {
   "cell_type": "markdown",
   "id": "bfdde47f",
   "metadata": {},
   "source": [
    "Question 2\n",
    "\n",
    "Which states had cheese production greater than 100 million in April 2023? The Cheese Department wants to focus their marketing efforts there. \n",
    "\n",
    "How many states are there?"
   ]
  },
  {
   "cell_type": "code",
   "execution_count": 18,
   "id": "68fa8517",
   "metadata": {},
   "outputs": [
    {
     "name": "stdout",
     "output_type": "stream",
     "text": [
      " * sqlite:///final_project_database.db\n",
      "Done.\n"
     ]
    },
    {
     "data": {
      "text/html": [
       "<table>\n",
       "    <thead>\n",
       "        <tr>\n",
       "            <th>Year</th>\n",
       "            <th>Period</th>\n",
       "            <th>Geo_Level</th>\n",
       "            <th>State_ANSI</th>\n",
       "            <th>Commodity_ID</th>\n",
       "            <th>Domain</th>\n",
       "            <th>Value</th>\n",
       "        </tr>\n",
       "    </thead>\n",
       "    <tbody>\n",
       "        <tr>\n",
       "            <td>2023</td>\n",
       "            <td>APR</td>\n",
       "            <td>STATE</td>\n",
       "            <td>None</td>\n",
       "            <td>6</td>\n",
       "            <td>TOTAL</td>\n",
       "            <td>215206000</td>\n",
       "        </tr>\n",
       "        <tr>\n",
       "            <td>2023</td>\n",
       "            <td>APR</td>\n",
       "            <td>STATE</td>\n",
       "            <td>6.0</td>\n",
       "            <td>6</td>\n",
       "            <td>TOTAL</td>\n",
       "            <td>208807000</td>\n",
       "        </tr>\n",
       "        <tr>\n",
       "            <td>2023</td>\n",
       "            <td>APR</td>\n",
       "            <td>STATE</td>\n",
       "            <td>55.0</td>\n",
       "            <td>6</td>\n",
       "            <td>TOTAL</td>\n",
       "            <td>289699000</td>\n",
       "        </tr>\n",
       "    </tbody>\n",
       "</table>"
      ],
      "text/plain": [
       "[(2023, 'APR', 'STATE', None, 6, 'TOTAL', '215206000'),\n",
       " (2023, 'APR', 'STATE', 6.0, 6, 'TOTAL', '208807000'),\n",
       " (2023, 'APR', 'STATE', 55.0, 6, 'TOTAL', '289699000')]"
      ]
     },
     "execution_count": 18,
     "metadata": {},
     "output_type": "execute_result"
    }
   ],
   "source": [
    "%%sql\n",
    "\n",
    "SELECT * FROM cheese_production\n",
    "WHERE Year=2023 AND Period=\"APR\"\n",
    "GROUP BY State_ANSI\n",
    "HAVING SUM(Value) > 100000000"
   ]
  },
  {
   "cell_type": "markdown",
   "id": "e76dc8ab",
   "metadata": {},
   "source": [
    "Question 3\n",
    "\n",
    "Your manager wants to know how coffee production has changed over the years. \n",
    "\n",
    "What is the total value of coffee production for 2011?"
   ]
  },
  {
   "cell_type": "code",
   "execution_count": 20,
   "id": "0823e75e",
   "metadata": {},
   "outputs": [
    {
     "name": "stdout",
     "output_type": "stream",
     "text": [
      " * sqlite:///final_project_database.db\n",
      "Done.\n"
     ]
    },
    {
     "data": {
      "text/html": [
       "<table>\n",
       "    <thead>\n",
       "        <tr>\n",
       "            <th>Year</th>\n",
       "            <th>Period</th>\n",
       "            <th>Geo_Level</th>\n",
       "            <th>State_ANSI</th>\n",
       "            <th>Commodity_ID</th>\n",
       "            <th>Value</th>\n",
       "        </tr>\n",
       "    </thead>\n",
       "    <tbody>\n",
       "        <tr>\n",
       "            <td>2011</td>\n",
       "            <td>YEAR</td>\n",
       "            <td>STATE</td>\n",
       "            <td>15</td>\n",
       "            <td>1</td>\n",
       "            <td>7600000</td>\n",
       "        </tr>\n",
       "    </tbody>\n",
       "</table>"
      ],
      "text/plain": [
       "[(2011, 'YEAR', 'STATE', 15, 1, '7600000')]"
      ]
     },
     "execution_count": 20,
     "metadata": {},
     "output_type": "execute_result"
    }
   ],
   "source": [
    "%%sql\n",
    "\n",
    "SELECT *\n",
    "FROM coffee_production\n",
    "WHERE Year=2011"
   ]
  },
  {
   "cell_type": "markdown",
   "id": "bd79bbb2",
   "metadata": {},
   "source": [
    "Question 4\n",
    "\n",
    "There's a meeting with the Honey Council next week. Find the average honey production for 2022 so you're prepared."
   ]
  },
  {
   "cell_type": "code",
   "execution_count": 21,
   "id": "911678bb",
   "metadata": {},
   "outputs": [
    {
     "name": "stdout",
     "output_type": "stream",
     "text": [
      " * sqlite:///final_project_database.db\n",
      "Done.\n"
     ]
    },
    {
     "data": {
      "text/html": [
       "<table>\n",
       "    <thead>\n",
       "        <tr>\n",
       "            <th>AVG(Value)</th>\n",
       "        </tr>\n",
       "    </thead>\n",
       "    <tbody>\n",
       "        <tr>\n",
       "            <td>3133275.0</td>\n",
       "        </tr>\n",
       "    </tbody>\n",
       "</table>"
      ],
      "text/plain": [
       "[(3133275.0,)]"
      ]
     },
     "execution_count": 21,
     "metadata": {},
     "output_type": "execute_result"
    }
   ],
   "source": [
    "%%sql\n",
    "\n",
    "SELECT AVG(Value)\n",
    "FROM honey_production\n",
    "WHERE Year=2022"
   ]
  },
  {
   "cell_type": "markdown",
   "id": "3328cbcb",
   "metadata": {},
   "source": [
    "Question 5\n",
    "\n",
    "The State Relations team wants a list of all states names with their corresponding ANSI codes. Can you generate that list?\n",
    "\n",
    "What is the State_ANSI code for Florida?"
   ]
  },
  {
   "cell_type": "code",
   "execution_count": 22,
   "id": "bdd6dea1",
   "metadata": {},
   "outputs": [
    {
     "name": "stdout",
     "output_type": "stream",
     "text": [
      " * sqlite:///final_project_database.db\n",
      "Done.\n"
     ]
    },
    {
     "data": {
      "text/html": [
       "<table>\n",
       "    <thead>\n",
       "        <tr>\n",
       "            <th>State</th>\n",
       "            <th>State_ANSI</th>\n",
       "        </tr>\n",
       "    </thead>\n",
       "    <tbody>\n",
       "        <tr>\n",
       "            <td>ALABAMA</td>\n",
       "            <td>1</td>\n",
       "        </tr>\n",
       "        <tr>\n",
       "            <td>ALASKA</td>\n",
       "            <td>2</td>\n",
       "        </tr>\n",
       "        <tr>\n",
       "            <td>ARIZONA</td>\n",
       "            <td>4</td>\n",
       "        </tr>\n",
       "        <tr>\n",
       "            <td>ARKANSAS</td>\n",
       "            <td>5</td>\n",
       "        </tr>\n",
       "        <tr>\n",
       "            <td>CALIFORNIA</td>\n",
       "            <td>6</td>\n",
       "        </tr>\n",
       "        <tr>\n",
       "            <td>COLORADO</td>\n",
       "            <td>8</td>\n",
       "        </tr>\n",
       "        <tr>\n",
       "            <td>CONNECTICUT</td>\n",
       "            <td>9</td>\n",
       "        </tr>\n",
       "        <tr>\n",
       "            <td>DELAWARE</td>\n",
       "            <td>10</td>\n",
       "        </tr>\n",
       "        <tr>\n",
       "            <td>FLORIDA</td>\n",
       "            <td>12</td>\n",
       "        </tr>\n",
       "        <tr>\n",
       "            <td>GEORGIA</td>\n",
       "            <td>13</td>\n",
       "        </tr>\n",
       "        <tr>\n",
       "            <td>HAWAII</td>\n",
       "            <td>15</td>\n",
       "        </tr>\n",
       "        <tr>\n",
       "            <td>IDAHO</td>\n",
       "            <td>16</td>\n",
       "        </tr>\n",
       "        <tr>\n",
       "            <td>ILLINOIS</td>\n",
       "            <td>17</td>\n",
       "        </tr>\n",
       "        <tr>\n",
       "            <td>INDIANA</td>\n",
       "            <td>18</td>\n",
       "        </tr>\n",
       "        <tr>\n",
       "            <td>IOWA</td>\n",
       "            <td>19</td>\n",
       "        </tr>\n",
       "        <tr>\n",
       "            <td>KANSAS</td>\n",
       "            <td>20</td>\n",
       "        </tr>\n",
       "        <tr>\n",
       "            <td>KENTUCKY</td>\n",
       "            <td>21</td>\n",
       "        </tr>\n",
       "        <tr>\n",
       "            <td>LOUISIANA</td>\n",
       "            <td>22</td>\n",
       "        </tr>\n",
       "        <tr>\n",
       "            <td>MAINE</td>\n",
       "            <td>23</td>\n",
       "        </tr>\n",
       "        <tr>\n",
       "            <td>MARYLAND</td>\n",
       "            <td>24</td>\n",
       "        </tr>\n",
       "        <tr>\n",
       "            <td>MASSACHUSETTS</td>\n",
       "            <td>25</td>\n",
       "        </tr>\n",
       "        <tr>\n",
       "            <td>MICHIGAN</td>\n",
       "            <td>26</td>\n",
       "        </tr>\n",
       "        <tr>\n",
       "            <td>MINNESOTA</td>\n",
       "            <td>27</td>\n",
       "        </tr>\n",
       "        <tr>\n",
       "            <td>MISSISSIPPI</td>\n",
       "            <td>28</td>\n",
       "        </tr>\n",
       "        <tr>\n",
       "            <td>MISSOURI</td>\n",
       "            <td>29</td>\n",
       "        </tr>\n",
       "        <tr>\n",
       "            <td>MONTANA</td>\n",
       "            <td>30</td>\n",
       "        </tr>\n",
       "        <tr>\n",
       "            <td>NEBRASKA</td>\n",
       "            <td>31</td>\n",
       "        </tr>\n",
       "        <tr>\n",
       "            <td>NEVADA</td>\n",
       "            <td>32</td>\n",
       "        </tr>\n",
       "        <tr>\n",
       "            <td>NEW HAMPSHIRE</td>\n",
       "            <td>33</td>\n",
       "        </tr>\n",
       "        <tr>\n",
       "            <td>NEW JERSEY</td>\n",
       "            <td>34</td>\n",
       "        </tr>\n",
       "        <tr>\n",
       "            <td>NEW MEXICO</td>\n",
       "            <td>35</td>\n",
       "        </tr>\n",
       "        <tr>\n",
       "            <td>NEW YORK</td>\n",
       "            <td>36</td>\n",
       "        </tr>\n",
       "        <tr>\n",
       "            <td>NORTH CAROLINA</td>\n",
       "            <td>37</td>\n",
       "        </tr>\n",
       "        <tr>\n",
       "            <td>NORTH DAKOTA</td>\n",
       "            <td>38</td>\n",
       "        </tr>\n",
       "        <tr>\n",
       "            <td>OHIO</td>\n",
       "            <td>39</td>\n",
       "        </tr>\n",
       "        <tr>\n",
       "            <td>OKLAHOMA</td>\n",
       "            <td>40</td>\n",
       "        </tr>\n",
       "        <tr>\n",
       "            <td>OREGON</td>\n",
       "            <td>41</td>\n",
       "        </tr>\n",
       "        <tr>\n",
       "            <td>PENNSYLVANIA</td>\n",
       "            <td>42</td>\n",
       "        </tr>\n",
       "        <tr>\n",
       "            <td>RHODE ISLAND</td>\n",
       "            <td>44</td>\n",
       "        </tr>\n",
       "        <tr>\n",
       "            <td>SOUTH CAROLINA</td>\n",
       "            <td>45</td>\n",
       "        </tr>\n",
       "        <tr>\n",
       "            <td>SOUTH DAKOTA</td>\n",
       "            <td>46</td>\n",
       "        </tr>\n",
       "        <tr>\n",
       "            <td>TENNESSEE</td>\n",
       "            <td>47</td>\n",
       "        </tr>\n",
       "        <tr>\n",
       "            <td>TEXAS</td>\n",
       "            <td>48</td>\n",
       "        </tr>\n",
       "        <tr>\n",
       "            <td>UTAH</td>\n",
       "            <td>49</td>\n",
       "        </tr>\n",
       "        <tr>\n",
       "            <td>VERMONT</td>\n",
       "            <td>50</td>\n",
       "        </tr>\n",
       "        <tr>\n",
       "            <td>VIRGINIA</td>\n",
       "            <td>51</td>\n",
       "        </tr>\n",
       "        <tr>\n",
       "            <td>WASHINGTON</td>\n",
       "            <td>53</td>\n",
       "        </tr>\n",
       "        <tr>\n",
       "            <td>WEST VIRGINIA</td>\n",
       "            <td>54</td>\n",
       "        </tr>\n",
       "        <tr>\n",
       "            <td>WISCONSIN</td>\n",
       "            <td>55</td>\n",
       "        </tr>\n",
       "        <tr>\n",
       "            <td>WYOMING</td>\n",
       "            <td>56</td>\n",
       "        </tr>\n",
       "    </tbody>\n",
       "</table>"
      ],
      "text/plain": [
       "[('ALABAMA', 1),\n",
       " ('ALASKA', 2),\n",
       " ('ARIZONA', 4),\n",
       " ('ARKANSAS', 5),\n",
       " ('CALIFORNIA', 6),\n",
       " ('COLORADO', 8),\n",
       " ('CONNECTICUT', 9),\n",
       " ('DELAWARE', 10),\n",
       " ('FLORIDA', 12),\n",
       " ('GEORGIA', 13),\n",
       " ('HAWAII', 15),\n",
       " ('IDAHO', 16),\n",
       " ('ILLINOIS', 17),\n",
       " ('INDIANA', 18),\n",
       " ('IOWA', 19),\n",
       " ('KANSAS', 20),\n",
       " ('KENTUCKY', 21),\n",
       " ('LOUISIANA', 22),\n",
       " ('MAINE', 23),\n",
       " ('MARYLAND', 24),\n",
       " ('MASSACHUSETTS', 25),\n",
       " ('MICHIGAN', 26),\n",
       " ('MINNESOTA', 27),\n",
       " ('MISSISSIPPI', 28),\n",
       " ('MISSOURI', 29),\n",
       " ('MONTANA', 30),\n",
       " ('NEBRASKA', 31),\n",
       " ('NEVADA', 32),\n",
       " ('NEW HAMPSHIRE', 33),\n",
       " ('NEW JERSEY', 34),\n",
       " ('NEW MEXICO', 35),\n",
       " ('NEW YORK', 36),\n",
       " ('NORTH CAROLINA', 37),\n",
       " ('NORTH DAKOTA', 38),\n",
       " ('OHIO', 39),\n",
       " ('OKLAHOMA', 40),\n",
       " ('OREGON', 41),\n",
       " ('PENNSYLVANIA', 42),\n",
       " ('RHODE ISLAND', 44),\n",
       " ('SOUTH CAROLINA', 45),\n",
       " ('SOUTH DAKOTA', 46),\n",
       " ('TENNESSEE', 47),\n",
       " ('TEXAS', 48),\n",
       " ('UTAH', 49),\n",
       " ('VERMONT', 50),\n",
       " ('VIRGINIA', 51),\n",
       " ('WASHINGTON', 53),\n",
       " ('WEST VIRGINIA', 54),\n",
       " ('WISCONSIN', 55),\n",
       " ('WYOMING', 56)]"
      ]
     },
     "execution_count": 22,
     "metadata": {},
     "output_type": "execute_result"
    }
   ],
   "source": [
    "%%sql\n",
    "\n",
    "SELECT * FROM state_lookup"
   ]
  },
  {
   "cell_type": "markdown",
   "id": "fdbd3d78",
   "metadata": {},
   "source": [
    "Question 6\n",
    "\n",
    "For a cross-commodity report, can you list all states with their cheese production values, even if they didn't produce any cheese in April of 2023?\n",
    "\n",
    "What is the total for NEW JERSEY?"
   ]
  },
  {
   "cell_type": "code",
   "execution_count": 42,
   "id": "517d31cf",
   "metadata": {},
   "outputs": [
    {
     "name": "stdout",
     "output_type": "stream",
     "text": [
      " * sqlite:///final_project_database.db\n",
      "Done.\n"
     ]
    },
    {
     "data": {
      "text/html": [
       "<table>\n",
       "    <thead>\n",
       "        <tr>\n",
       "            <th>State</th>\n",
       "            <th>SUM(cp.Value)</th>\n",
       "        </tr>\n",
       "    </thead>\n",
       "    <tbody>\n",
       "        <tr>\n",
       "            <td>CALIFORNIA</td>\n",
       "            <td>208807000</td>\n",
       "        </tr>\n",
       "        <tr>\n",
       "            <td>IDAHO</td>\n",
       "            <td>86452000</td>\n",
       "        </tr>\n",
       "        <tr>\n",
       "            <td>ILLINOIS</td>\n",
       "            <td>5068000</td>\n",
       "        </tr>\n",
       "        <tr>\n",
       "            <td>IOWA</td>\n",
       "            <td>31512000</td>\n",
       "        </tr>\n",
       "        <tr>\n",
       "            <td>MINNESOTA</td>\n",
       "            <td>69728000</td>\n",
       "        </tr>\n",
       "        <tr>\n",
       "            <td>NEW JERSEY</td>\n",
       "            <td>4889000</td>\n",
       "        </tr>\n",
       "        <tr>\n",
       "            <td>NEW MEXICO</td>\n",
       "            <td>79038000</td>\n",
       "        </tr>\n",
       "        <tr>\n",
       "            <td>NEW YORK</td>\n",
       "            <td>66256000</td>\n",
       "        </tr>\n",
       "        <tr>\n",
       "            <td>OHIO</td>\n",
       "            <td>20510000</td>\n",
       "        </tr>\n",
       "        <tr>\n",
       "            <td>PENNSYLVANIA</td>\n",
       "            <td>39420000</td>\n",
       "        </tr>\n",
       "        <tr>\n",
       "            <td>SOUTH DAKOTA</td>\n",
       "            <td>43253000</td>\n",
       "        </tr>\n",
       "        <tr>\n",
       "            <td>VERMONT</td>\n",
       "            <td>11279000</td>\n",
       "        </tr>\n",
       "        <tr>\n",
       "            <td>WISCONSIN</td>\n",
       "            <td>289699000</td>\n",
       "        </tr>\n",
       "    </tbody>\n",
       "</table>"
      ],
      "text/plain": [
       "[('CALIFORNIA', 208807000),\n",
       " ('IDAHO', 86452000),\n",
       " ('ILLINOIS', 5068000),\n",
       " ('IOWA', 31512000),\n",
       " ('MINNESOTA', 69728000),\n",
       " ('NEW JERSEY', 4889000),\n",
       " ('NEW MEXICO', 79038000),\n",
       " ('NEW YORK', 66256000),\n",
       " ('OHIO', 20510000),\n",
       " ('PENNSYLVANIA', 39420000),\n",
       " ('SOUTH DAKOTA', 43253000),\n",
       " ('VERMONT', 11279000),\n",
       " ('WISCONSIN', 289699000)]"
      ]
     },
     "execution_count": 42,
     "metadata": {},
     "output_type": "execute_result"
    }
   ],
   "source": [
    "%%sql\n",
    "\n",
    "SELECT\n",
    "    sl.State,\n",
    "    SUM(cp.Value)\n",
    "FROM state_lookup AS sl\n",
    "LEFT JOIN cheese_production AS cp ON sl.State_ANSI = cp.State_ANSI\n",
    "WHERE cp.Year = 2023 AND cp.Period = \"APR\"\n",
    "GROUP BY\n",
    "    sl.State;"
   ]
  },
  {
   "cell_type": "markdown",
   "id": "3b6895a5",
   "metadata": {},
   "source": [
    "Question 7\n",
    "\n",
    "Can you find the total yogurt production for states in the year 2022 which also have cheese production data from 2023? This will help the Dairy Division in their planning."
   ]
  },
  {
   "cell_type": "code",
   "execution_count": 29,
   "id": "5af4dd3b",
   "metadata": {},
   "outputs": [
    {
     "name": "stdout",
     "output_type": "stream",
     "text": [
      " * sqlite:///final_project_database.db\n",
      "Done.\n"
     ]
    },
    {
     "data": {
      "text/html": [
       "<table>\n",
       "    <thead>\n",
       "        <tr>\n",
       "            <th>SUM(T1.Value)</th>\n",
       "        </tr>\n",
       "    </thead>\n",
       "    <tbody>\n",
       "        <tr>\n",
       "            <td>4684380000</td>\n",
       "        </tr>\n",
       "    </tbody>\n",
       "</table>"
      ],
      "text/plain": [
       "[(4684380000,)]"
      ]
     },
     "execution_count": 29,
     "metadata": {},
     "output_type": "execute_result"
    }
   ],
   "source": [
    "%%sql\n",
    "\n",
    "SELECT SUM(T1.Value)\n",
    "FROM yogurt_production AS T1\n",
    "JOIN cheese_production AS T2\n",
    "ON T1.State_ANSI = T2.State_ANSI\n",
    "WHERE T1.Year = 2022 AND T2.Year = 2023;"
   ]
  },
  {
   "cell_type": "markdown",
   "id": "5b684798",
   "metadata": {},
   "source": [
    "List all states from state_lookup that are missing from milk_production in 2023.\n",
    "\n",
    "How many states are there?"
   ]
  },
  {
   "cell_type": "code",
   "execution_count": 33,
   "id": "1e27da62",
   "metadata": {},
   "outputs": [
    {
     "name": "stdout",
     "output_type": "stream",
     "text": [
      " * sqlite:///final_project_database.db\n",
      "Done.\n"
     ]
    },
    {
     "data": {
      "text/html": [
       "<table>\n",
       "    <thead>\n",
       "        <tr>\n",
       "            <th>COUNT(s.State_ANSI)</th>\n",
       "        </tr>\n",
       "    </thead>\n",
       "    <tbody>\n",
       "        <tr>\n",
       "            <td>26</td>\n",
       "        </tr>\n",
       "    </tbody>\n",
       "</table>"
      ],
      "text/plain": [
       "[(26,)]"
      ]
     },
     "execution_count": 33,
     "metadata": {},
     "output_type": "execute_result"
    }
   ],
   "source": [
    "%%sql\n",
    "\n",
    "SELECT COUNT(s.State_ANSI)\n",
    "FROM state_lookup s\n",
    "WHERE s.State_ANSI NOT IN (SELECT m.State_ANSI FROM milk_production m WHERE Year=2023)"
   ]
  },
  {
   "cell_type": "markdown",
   "id": "233e2d6e",
   "metadata": {},
   "source": [
    "List all states with their cheese production values, including states that didn't produce any cheese in April 2023.\n",
    "\n",
    "Did Delaware produce any cheese in April 2023?"
   ]
  },
  {
   "cell_type": "code",
   "execution_count": 38,
   "id": "1764a1b1",
   "metadata": {},
   "outputs": [
    {
     "name": "stdout",
     "output_type": "stream",
     "text": [
      " * sqlite:///final_project_database.db\n",
      "Done.\n"
     ]
    },
    {
     "data": {
      "text/html": [
       "<table>\n",
       "    <thead>\n",
       "        <tr>\n",
       "            <th>Year</th>\n",
       "            <th>Period</th>\n",
       "            <th>Geo_Level</th>\n",
       "            <th>State_ANSI</th>\n",
       "            <th>Commodity_ID</th>\n",
       "            <th>Domain</th>\n",
       "            <th>Value</th>\n",
       "            <th>State</th>\n",
       "            <th>State_ANSI_1</th>\n",
       "        </tr>\n",
       "    </thead>\n",
       "    <tbody>\n",
       "        <tr>\n",
       "            <td>2023</td>\n",
       "            <td>APR</td>\n",
       "            <td>STATE</td>\n",
       "            <td>6.0</td>\n",
       "            <td>6</td>\n",
       "            <td>TOTAL</td>\n",
       "            <td>208807000</td>\n",
       "            <td>CALIFORNIA</td>\n",
       "            <td>6</td>\n",
       "        </tr>\n",
       "        <tr>\n",
       "            <td>2023</td>\n",
       "            <td>APR</td>\n",
       "            <td>STATE</td>\n",
       "            <td>16.0</td>\n",
       "            <td>6</td>\n",
       "            <td>TOTAL</td>\n",
       "            <td>86452000</td>\n",
       "            <td>IDAHO</td>\n",
       "            <td>16</td>\n",
       "        </tr>\n",
       "        <tr>\n",
       "            <td>2023</td>\n",
       "            <td>APR</td>\n",
       "            <td>STATE</td>\n",
       "            <td>17.0</td>\n",
       "            <td>6</td>\n",
       "            <td>TOTAL</td>\n",
       "            <td>5068000</td>\n",
       "            <td>ILLINOIS</td>\n",
       "            <td>17</td>\n",
       "        </tr>\n",
       "        <tr>\n",
       "            <td>2023</td>\n",
       "            <td>APR</td>\n",
       "            <td>STATE</td>\n",
       "            <td>19.0</td>\n",
       "            <td>6</td>\n",
       "            <td>TOTAL</td>\n",
       "            <td>31512000</td>\n",
       "            <td>IOWA</td>\n",
       "            <td>19</td>\n",
       "        </tr>\n",
       "        <tr>\n",
       "            <td>2023</td>\n",
       "            <td>APR</td>\n",
       "            <td>STATE</td>\n",
       "            <td>27.0</td>\n",
       "            <td>6</td>\n",
       "            <td>TOTAL</td>\n",
       "            <td>69728000</td>\n",
       "            <td>MINNESOTA</td>\n",
       "            <td>27</td>\n",
       "        </tr>\n",
       "        <tr>\n",
       "            <td>2023</td>\n",
       "            <td>APR</td>\n",
       "            <td>STATE</td>\n",
       "            <td>34.0</td>\n",
       "            <td>6</td>\n",
       "            <td>TOTAL</td>\n",
       "            <td>4889000</td>\n",
       "            <td>NEW JERSEY</td>\n",
       "            <td>34</td>\n",
       "        </tr>\n",
       "        <tr>\n",
       "            <td>2023</td>\n",
       "            <td>APR</td>\n",
       "            <td>STATE</td>\n",
       "            <td>35.0</td>\n",
       "            <td>6</td>\n",
       "            <td>TOTAL</td>\n",
       "            <td>79038000</td>\n",
       "            <td>NEW MEXICO</td>\n",
       "            <td>35</td>\n",
       "        </tr>\n",
       "        <tr>\n",
       "            <td>2023</td>\n",
       "            <td>APR</td>\n",
       "            <td>STATE</td>\n",
       "            <td>36.0</td>\n",
       "            <td>6</td>\n",
       "            <td>TOTAL</td>\n",
       "            <td>66256000</td>\n",
       "            <td>NEW YORK</td>\n",
       "            <td>36</td>\n",
       "        </tr>\n",
       "        <tr>\n",
       "            <td>2023</td>\n",
       "            <td>APR</td>\n",
       "            <td>STATE</td>\n",
       "            <td>39.0</td>\n",
       "            <td>6</td>\n",
       "            <td>TOTAL</td>\n",
       "            <td>20510000</td>\n",
       "            <td>OHIO</td>\n",
       "            <td>39</td>\n",
       "        </tr>\n",
       "        <tr>\n",
       "            <td>2023</td>\n",
       "            <td>APR</td>\n",
       "            <td>STATE</td>\n",
       "            <td>None</td>\n",
       "            <td>6</td>\n",
       "            <td>TOTAL</td>\n",
       "            <td>215206000</td>\n",
       "            <td>None</td>\n",
       "            <td>None</td>\n",
       "        </tr>\n",
       "        <tr>\n",
       "            <td>2023</td>\n",
       "            <td>APR</td>\n",
       "            <td>STATE</td>\n",
       "            <td>42.0</td>\n",
       "            <td>6</td>\n",
       "            <td>TOTAL</td>\n",
       "            <td>39420000</td>\n",
       "            <td>PENNSYLVANIA</td>\n",
       "            <td>42</td>\n",
       "        </tr>\n",
       "        <tr>\n",
       "            <td>2023</td>\n",
       "            <td>APR</td>\n",
       "            <td>STATE</td>\n",
       "            <td>46.0</td>\n",
       "            <td>6</td>\n",
       "            <td>TOTAL</td>\n",
       "            <td>43253000</td>\n",
       "            <td>SOUTH DAKOTA</td>\n",
       "            <td>46</td>\n",
       "        </tr>\n",
       "        <tr>\n",
       "            <td>2023</td>\n",
       "            <td>APR</td>\n",
       "            <td>STATE</td>\n",
       "            <td>50.0</td>\n",
       "            <td>6</td>\n",
       "            <td>TOTAL</td>\n",
       "            <td>11279000</td>\n",
       "            <td>VERMONT</td>\n",
       "            <td>50</td>\n",
       "        </tr>\n",
       "        <tr>\n",
       "            <td>2023</td>\n",
       "            <td>APR</td>\n",
       "            <td>STATE</td>\n",
       "            <td>55.0</td>\n",
       "            <td>6</td>\n",
       "            <td>TOTAL</td>\n",
       "            <td>289699000</td>\n",
       "            <td>WISCONSIN</td>\n",
       "            <td>55</td>\n",
       "        </tr>\n",
       "    </tbody>\n",
       "</table>"
      ],
      "text/plain": [
       "[(2023, 'APR', 'STATE', 6.0, 6, 'TOTAL', '208807000', 'CALIFORNIA', 6),\n",
       " (2023, 'APR', 'STATE', 16.0, 6, 'TOTAL', '86452000', 'IDAHO', 16),\n",
       " (2023, 'APR', 'STATE', 17.0, 6, 'TOTAL', '5068000', 'ILLINOIS', 17),\n",
       " (2023, 'APR', 'STATE', 19.0, 6, 'TOTAL', '31512000', 'IOWA', 19),\n",
       " (2023, 'APR', 'STATE', 27.0, 6, 'TOTAL', '69728000', 'MINNESOTA', 27),\n",
       " (2023, 'APR', 'STATE', 34.0, 6, 'TOTAL', '4889000', 'NEW JERSEY', 34),\n",
       " (2023, 'APR', 'STATE', 35.0, 6, 'TOTAL', '79038000', 'NEW MEXICO', 35),\n",
       " (2023, 'APR', 'STATE', 36.0, 6, 'TOTAL', '66256000', 'NEW YORK', 36),\n",
       " (2023, 'APR', 'STATE', 39.0, 6, 'TOTAL', '20510000', 'OHIO', 39),\n",
       " (2023, 'APR', 'STATE', None, 6, 'TOTAL', '215206000', None, None),\n",
       " (2023, 'APR', 'STATE', 42.0, 6, 'TOTAL', '39420000', 'PENNSYLVANIA', 42),\n",
       " (2023, 'APR', 'STATE', 46.0, 6, 'TOTAL', '43253000', 'SOUTH DAKOTA', 46),\n",
       " (2023, 'APR', 'STATE', 50.0, 6, 'TOTAL', '11279000', 'VERMONT', 50),\n",
       " (2023, 'APR', 'STATE', 55.0, 6, 'TOTAL', '289699000', 'WISCONSIN', 55)]"
      ]
     },
     "execution_count": 38,
     "metadata": {},
     "output_type": "execute_result"
    }
   ],
   "source": [
    "%%sql\n",
    "\n",
    "SELECT *\n",
    "FROM cheese_production\n",
    "LEFT JOIN state_lookup ON state_lookup.state_ANSI = cheese_production.state_ANSI\n",
    "WHERE Year = 2023 AND Period=\"APR\""
   ]
  },
  {
   "cell_type": "markdown",
   "id": "c574e42b",
   "metadata": {},
   "source": [
    "Find the average coffee production for all years where the honey production exceeded 1 million."
   ]
  },
  {
   "cell_type": "code",
   "execution_count": 41,
   "id": "13027e15",
   "metadata": {},
   "outputs": [
    {
     "name": "stdout",
     "output_type": "stream",
     "text": [
      " * sqlite:///final_project_database.db\n",
      "Done.\n"
     ]
    },
    {
     "data": {
      "text/html": [
       "<table>\n",
       "    <thead>\n",
       "        <tr>\n",
       "            <th>AVG(Yearly_AVG)</th>\n",
       "        </tr>\n",
       "    </thead>\n",
       "    <tbody>\n",
       "        <tr>\n",
       "            <td>6426666.666666667</td>\n",
       "        </tr>\n",
       "    </tbody>\n",
       "</table>"
      ],
      "text/plain": [
       "[(6426666.666666667,)]"
      ]
     },
     "execution_count": 41,
     "metadata": {},
     "output_type": "execute_result"
    }
   ],
   "source": [
    "%%sql\n",
    "\n",
    "SELECT AVG(Yearly_AVG) FROM\n",
    "(SELECT Year,AVG(c.Value) AS Yearly_AVG\n",
    "FROM coffee_production c\n",
    "GROUP BY c.Year\n",
    "HAVING c.Year IN (SELECT h.Year FROM honey_production h GROUP BY h.Year HAVING AVG(h.Value) > 1000000)) AS total_avg"
   ]
  }
 ],
 "metadata": {
  "kernelspec": {
   "display_name": "stocks",
   "language": "python",
   "name": "python3"
  },
  "language_info": {
   "codemirror_mode": {
    "name": "ipython",
    "version": 3
   },
   "file_extension": ".py",
   "mimetype": "text/x-python",
   "name": "python",
   "nbconvert_exporter": "python",
   "pygments_lexer": "ipython3",
   "version": "3.10.18"
  }
 },
 "nbformat": 4,
 "nbformat_minor": 5
}
