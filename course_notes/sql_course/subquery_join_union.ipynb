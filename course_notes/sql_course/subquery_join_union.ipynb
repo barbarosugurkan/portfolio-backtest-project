{
 "cells": [
  {
   "cell_type": "code",
   "execution_count": 2,
   "id": "c0b5706f",
   "metadata": {},
   "outputs": [],
   "source": [
    "%load_ext sql\n",
    "%sql sqlite:///Chinook_Sqlite.sqlite\n",
    "%config SqlMagic.style = '_DEPRECATED_DEFAULT'"
   ]
  },
  {
   "cell_type": "markdown",
   "id": "343e5145",
   "metadata": {},
   "source": [
    "Until the end of the Module 3 all the topics were standart but subquery, join and union concepts are hard to understand, so I made an extra note about them."
   ]
  },
  {
   "cell_type": "markdown",
   "id": "a09c3104",
   "metadata": {},
   "source": [
    "# Subquery\n",
    "\n",
    "Use a **subquery** when you need to use the result of one query as a value in another. Think of it as a query within a query. A subquery is great for when you need to filter data based on a value that you don't know ahead of time, but you can find it with another SELECT statement.\n",
    "\n",
    "Example: Find all customers who have made a purchase in 'USA'."
   ]
  },
  {
   "cell_type": "code",
   "execution_count": 2,
   "id": "40942a75",
   "metadata": {},
   "outputs": [
    {
     "name": "stdout",
     "output_type": "stream",
     "text": [
      " * sqlite:///Chinook_Sqlite.sqlite\n",
      "Done.\n"
     ]
    },
    {
     "data": {
      "text/html": [
       "<table>\n",
       "    <thead>\n",
       "        <tr>\n",
       "            <th>FirstName</th>\n",
       "            <th>LastName</th>\n",
       "        </tr>\n",
       "    </thead>\n",
       "    <tbody>\n",
       "        <tr>\n",
       "            <td>Frank</td>\n",
       "            <td>Harris</td>\n",
       "        </tr>\n",
       "        <tr>\n",
       "            <td>Jack</td>\n",
       "            <td>Smith</td>\n",
       "        </tr>\n",
       "        <tr>\n",
       "            <td>Michelle</td>\n",
       "            <td>Brooks</td>\n",
       "        </tr>\n",
       "        <tr>\n",
       "            <td>Tim</td>\n",
       "            <td>Goyer</td>\n",
       "        </tr>\n",
       "        <tr>\n",
       "            <td>Dan</td>\n",
       "            <td>Miller</td>\n",
       "        </tr>\n",
       "        <tr>\n",
       "            <td>Kathy</td>\n",
       "            <td>Chase</td>\n",
       "        </tr>\n",
       "        <tr>\n",
       "            <td>Heather</td>\n",
       "            <td>Leacock</td>\n",
       "        </tr>\n",
       "        <tr>\n",
       "            <td>John</td>\n",
       "            <td>Gordon</td>\n",
       "        </tr>\n",
       "        <tr>\n",
       "            <td>Frank</td>\n",
       "            <td>Ralston</td>\n",
       "        </tr>\n",
       "        <tr>\n",
       "            <td>Victor</td>\n",
       "            <td>Stevens</td>\n",
       "        </tr>\n",
       "        <tr>\n",
       "            <td>Richard</td>\n",
       "            <td>Cunningham</td>\n",
       "        </tr>\n",
       "        <tr>\n",
       "            <td>Patrick</td>\n",
       "            <td>Gray</td>\n",
       "        </tr>\n",
       "        <tr>\n",
       "            <td>Julia</td>\n",
       "            <td>Barnett</td>\n",
       "        </tr>\n",
       "    </tbody>\n",
       "</table>"
      ],
      "text/plain": [
       "[('Frank', 'Harris'),\n",
       " ('Jack', 'Smith'),\n",
       " ('Michelle', 'Brooks'),\n",
       " ('Tim', 'Goyer'),\n",
       " ('Dan', 'Miller'),\n",
       " ('Kathy', 'Chase'),\n",
       " ('Heather', 'Leacock'),\n",
       " ('John', 'Gordon'),\n",
       " ('Frank', 'Ralston'),\n",
       " ('Victor', 'Stevens'),\n",
       " ('Richard', 'Cunningham'),\n",
       " ('Patrick', 'Gray'),\n",
       " ('Julia', 'Barnett')]"
      ]
     },
     "execution_count": 2,
     "metadata": {},
     "output_type": "execute_result"
    }
   ],
   "source": [
    "%%sql\n",
    "\n",
    "SELECT FirstName, LastName\n",
    "FROM Customer c\n",
    "WHERE c.CustomerID IN (SELECT i.CustomerID FROM Invoice i WHERE BillingCountry = \"USA\")"
   ]
  },
  {
   "cell_type": "markdown",
   "id": "b580edaf",
   "metadata": {},
   "source": [
    "# Joins\n",
    "\n",
    "Use a join when you need to combine columns from two or more tables into a single result set. This is the most common way to get related data from different tables.\n",
    "\n",
    "**INNER JOIN**: Use this when you want to retrieve rows that have matching values in both tables. It's like finding the intersection between two sets of data.\n",
    "\n",
    "Example: List the titles of all albums and the names of the artists who created them."
   ]
  },
  {
   "cell_type": "code",
   "execution_count": 4,
   "id": "f6a7535b",
   "metadata": {},
   "outputs": [
    {
     "name": "stdout",
     "output_type": "stream",
     "text": [
      " * sqlite:///Chinook_Sqlite.sqlite\n",
      "Done.\n"
     ]
    },
    {
     "data": {
      "text/html": [
       "<table>\n",
       "    <thead>\n",
       "        <tr>\n",
       "            <th>Title</th>\n",
       "            <th>Name</th>\n",
       "        </tr>\n",
       "    </thead>\n",
       "    <tbody>\n",
       "        <tr>\n",
       "            <td>For Those About To Rock We Salute You</td>\n",
       "            <td>AC/DC</td>\n",
       "        </tr>\n",
       "        <tr>\n",
       "            <td>Balls to the Wall</td>\n",
       "            <td>Accept</td>\n",
       "        </tr>\n",
       "        <tr>\n",
       "            <td>Restless and Wild</td>\n",
       "            <td>Accept</td>\n",
       "        </tr>\n",
       "        <tr>\n",
       "            <td>Let There Be Rock</td>\n",
       "            <td>AC/DC</td>\n",
       "        </tr>\n",
       "        <tr>\n",
       "            <td>Big Ones</td>\n",
       "            <td>Aerosmith</td>\n",
       "        </tr>\n",
       "        <tr>\n",
       "            <td>Jagged Little Pill</td>\n",
       "            <td>Alanis Morissette</td>\n",
       "        </tr>\n",
       "        <tr>\n",
       "            <td>Facelift</td>\n",
       "            <td>Alice In Chains</td>\n",
       "        </tr>\n",
       "        <tr>\n",
       "            <td>Warner 25 Anos</td>\n",
       "            <td>Antônio Carlos Jobim</td>\n",
       "        </tr>\n",
       "        <tr>\n",
       "            <td>Plays Metallica By Four Cellos</td>\n",
       "            <td>Apocalyptica</td>\n",
       "        </tr>\n",
       "        <tr>\n",
       "            <td>Audioslave</td>\n",
       "            <td>Audioslave</td>\n",
       "        </tr>\n",
       "    </tbody>\n",
       "</table>"
      ],
      "text/plain": [
       "[('For Those About To Rock We Salute You', 'AC/DC'),\n",
       " ('Balls to the Wall', 'Accept'),\n",
       " ('Restless and Wild', 'Accept'),\n",
       " ('Let There Be Rock', 'AC/DC'),\n",
       " ('Big Ones', 'Aerosmith'),\n",
       " ('Jagged Little Pill', 'Alanis Morissette'),\n",
       " ('Facelift', 'Alice In Chains'),\n",
       " ('Warner 25 Anos', 'Antônio Carlos Jobim'),\n",
       " ('Plays Metallica By Four Cellos', 'Apocalyptica'),\n",
       " ('Audioslave', 'Audioslave')]"
      ]
     },
     "execution_count": 4,
     "metadata": {},
     "output_type": "execute_result"
    }
   ],
   "source": [
    "%%sql\n",
    "\n",
    "SELECT Title, Name\n",
    "FROM Album\n",
    "INNER JOIN Artist ON Artist.ArtistID = Album.ArtistID\n",
    "LIMIT 10"
   ]
  },
  {
   "cell_type": "markdown",
   "id": "da7cf5a4",
   "metadata": {},
   "source": [
    "**LEFT JOIN**: Use this when you want to retrieve all rows from the left table and only the matching rows from the right table. If a row in the left table doesn't have a match in the right table, the columns from the right table will be NULL.\n",
    "\n",
    "Example: List all albums, and if they have an associated artist, show the artist's name."
   ]
  },
  {
   "cell_type": "code",
   "execution_count": 9,
   "id": "21ebb5a3",
   "metadata": {},
   "outputs": [
    {
     "name": "stdout",
     "output_type": "stream",
     "text": [
      " * sqlite:///Chinook_Sqlite.sqlite\n",
      "Done.\n"
     ]
    },
    {
     "data": {
      "text/html": [
       "<table>\n",
       "    <thead>\n",
       "        <tr>\n",
       "            <th>Title</th>\n",
       "            <th>Name</th>\n",
       "        </tr>\n",
       "    </thead>\n",
       "    <tbody>\n",
       "        <tr>\n",
       "            <td>For Those About To Rock We Salute You</td>\n",
       "            <td>AC/DC</td>\n",
       "        </tr>\n",
       "        <tr>\n",
       "            <td>Balls to the Wall</td>\n",
       "            <td>Accept</td>\n",
       "        </tr>\n",
       "        <tr>\n",
       "            <td>Restless and Wild</td>\n",
       "            <td>Accept</td>\n",
       "        </tr>\n",
       "        <tr>\n",
       "            <td>Let There Be Rock</td>\n",
       "            <td>AC/DC</td>\n",
       "        </tr>\n",
       "        <tr>\n",
       "            <td>Big Ones</td>\n",
       "            <td>Aerosmith</td>\n",
       "        </tr>\n",
       "        <tr>\n",
       "            <td>Jagged Little Pill</td>\n",
       "            <td>Alanis Morissette</td>\n",
       "        </tr>\n",
       "        <tr>\n",
       "            <td>Facelift</td>\n",
       "            <td>Alice In Chains</td>\n",
       "        </tr>\n",
       "        <tr>\n",
       "            <td>Warner 25 Anos</td>\n",
       "            <td>Antônio Carlos Jobim</td>\n",
       "        </tr>\n",
       "        <tr>\n",
       "            <td>Plays Metallica By Four Cellos</td>\n",
       "            <td>Apocalyptica</td>\n",
       "        </tr>\n",
       "        <tr>\n",
       "            <td>Audioslave</td>\n",
       "            <td>Audioslave</td>\n",
       "        </tr>\n",
       "    </tbody>\n",
       "</table>"
      ],
      "text/plain": [
       "[('For Those About To Rock We Salute You', 'AC/DC'),\n",
       " ('Balls to the Wall', 'Accept'),\n",
       " ('Restless and Wild', 'Accept'),\n",
       " ('Let There Be Rock', 'AC/DC'),\n",
       " ('Big Ones', 'Aerosmith'),\n",
       " ('Jagged Little Pill', 'Alanis Morissette'),\n",
       " ('Facelift', 'Alice In Chains'),\n",
       " ('Warner 25 Anos', 'Antônio Carlos Jobim'),\n",
       " ('Plays Metallica By Four Cellos', 'Apocalyptica'),\n",
       " ('Audioslave', 'Audioslave')]"
      ]
     },
     "execution_count": 9,
     "metadata": {},
     "output_type": "execute_result"
    }
   ],
   "source": [
    "%%sql\n",
    "\n",
    "SELECT Title, Name\n",
    "FROM Album\n",
    "LEFT JOIN Artist ON Album.ArtistID = Artist.ArtistID\n",
    "LIMIT 10"
   ]
  },
  {
   "cell_type": "markdown",
   "id": "29263a72",
   "metadata": {},
   "source": [
    "# Unions\n",
    "\n",
    "Use a union when you want to combine the results of two or more SELECT statements into a single column. The SELECT statements must have the same number of columns, and the corresponding columns must have similar data types. A UNION removes duplicate rows, while UNION ALL keeps them.\n",
    "\n",
    "Example: Get a combined list of all artist names and all customer first names."
   ]
  },
  {
   "cell_type": "code",
   "execution_count": 11,
   "id": "070931ae",
   "metadata": {},
   "outputs": [
    {
     "name": "stdout",
     "output_type": "stream",
     "text": [
      " * sqlite:///Chinook_Sqlite.sqlite\n",
      "Done.\n"
     ]
    },
    {
     "data": {
      "text/html": [
       "<table>\n",
       "    <thead>\n",
       "        <tr>\n",
       "            <th>Name</th>\n",
       "        </tr>\n",
       "    </thead>\n",
       "    <tbody>\n",
       "        <tr>\n",
       "            <td>A Cor Do Som</td>\n",
       "        </tr>\n",
       "        <tr>\n",
       "            <td>AC/DC</td>\n",
       "        </tr>\n",
       "        <tr>\n",
       "            <td>Aaron</td>\n",
       "        </tr>\n",
       "        <tr>\n",
       "            <td>Aaron Copland &amp; London Symphony Orchestra</td>\n",
       "        </tr>\n",
       "        <tr>\n",
       "            <td>Aaron Goldberg</td>\n",
       "        </tr>\n",
       "        <tr>\n",
       "            <td>Academy of St. Martin in the Fields &amp; Sir Neville Marriner</td>\n",
       "        </tr>\n",
       "        <tr>\n",
       "            <td>Academy of St. Martin in the Fields Chamber Ensemble &amp; Sir Neville Marriner</td>\n",
       "        </tr>\n",
       "        <tr>\n",
       "            <td>Academy of St. Martin in the Fields, John Birch, Sir Neville Marriner &amp; Sylvia McNair</td>\n",
       "        </tr>\n",
       "        <tr>\n",
       "            <td>Academy of St. Martin in the Fields, Sir Neville Marriner &amp; Thurston Dart</td>\n",
       "        </tr>\n",
       "        <tr>\n",
       "            <td>Academy of St. Martin in the Fields, Sir Neville Marriner &amp; William Bennett</td>\n",
       "        </tr>\n",
       "    </tbody>\n",
       "</table>"
      ],
      "text/plain": [
       "[('A Cor Do Som',),\n",
       " ('AC/DC',),\n",
       " ('Aaron',),\n",
       " ('Aaron Copland & London Symphony Orchestra',),\n",
       " ('Aaron Goldberg',),\n",
       " ('Academy of St. Martin in the Fields & Sir Neville Marriner',),\n",
       " ('Academy of St. Martin in the Fields Chamber Ensemble & Sir Neville Marriner',),\n",
       " ('Academy of St. Martin in the Fields, John Birch, Sir Neville Marriner & Sylvia McNair',),\n",
       " ('Academy of St. Martin in the Fields, Sir Neville Marriner & Thurston Dart',),\n",
       " ('Academy of St. Martin in the Fields, Sir Neville Marriner & William Bennett',)]"
      ]
     },
     "execution_count": 11,
     "metadata": {},
     "output_type": "execute_result"
    }
   ],
   "source": [
    "%%sql\n",
    "\n",
    "SELECT Name FROM Artist\n",
    "UNION\n",
    "SELECT FirstName FROM Customer\n",
    "LIMIT 10"
   ]
  },
  {
   "cell_type": "markdown",
   "id": "afc0b741",
   "metadata": {},
   "source": [
    "List the names of all employees who report to 'Nancy Edwards'."
   ]
  },
  {
   "cell_type": "code",
   "execution_count": 13,
   "id": "eeecb5b4",
   "metadata": {},
   "outputs": [
    {
     "name": "stdout",
     "output_type": "stream",
     "text": [
      " * sqlite:///Chinook_Sqlite.sqlite\n",
      "Done.\n"
     ]
    },
    {
     "data": {
      "text/html": [
       "<table>\n",
       "    <thead>\n",
       "        <tr>\n",
       "            <th>FirstName</th>\n",
       "            <th>LastName</th>\n",
       "        </tr>\n",
       "    </thead>\n",
       "    <tbody>\n",
       "        <tr>\n",
       "            <td>Jane</td>\n",
       "            <td>Peacock</td>\n",
       "        </tr>\n",
       "        <tr>\n",
       "            <td>Margaret</td>\n",
       "            <td>Park</td>\n",
       "        </tr>\n",
       "        <tr>\n",
       "            <td>Steve</td>\n",
       "            <td>Johnson</td>\n",
       "        </tr>\n",
       "    </tbody>\n",
       "</table>"
      ],
      "text/plain": [
       "[('Jane', 'Peacock'), ('Margaret', 'Park'), ('Steve', 'Johnson')]"
      ]
     },
     "execution_count": 13,
     "metadata": {},
     "output_type": "execute_result"
    }
   ],
   "source": [
    "%%sql\n",
    "\n",
    "SELECT e1.FirstName,e1.LastName\n",
    "FROM Employee e1\n",
    "INNER JOIN Employee e2 ON e1.ReportsTo = e2.EmployeeID\n",
    "WHERE e2.FirstName = \"Nancy\" AND e2.LastName = \"Edwards\" "
   ]
  },
  {
   "cell_type": "markdown",
   "id": "214b5749",
   "metadata": {},
   "source": [
    "Find the total number of tracks for each album."
   ]
  },
  {
   "cell_type": "code",
   "execution_count": 18,
   "id": "24163d58",
   "metadata": {},
   "outputs": [
    {
     "name": "stdout",
     "output_type": "stream",
     "text": [
      " * sqlite:///Chinook_Sqlite.sqlite\n",
      "Done.\n"
     ]
    },
    {
     "data": {
      "text/html": [
       "<table>\n",
       "    <thead>\n",
       "        <tr>\n",
       "            <th>TotalNumberOfTracks</th>\n",
       "            <th>Title</th>\n",
       "        </tr>\n",
       "    </thead>\n",
       "    <tbody>\n",
       "        <tr>\n",
       "            <td>10</td>\n",
       "            <td>For Those About To Rock We Salute You</td>\n",
       "        </tr>\n",
       "        <tr>\n",
       "            <td>1</td>\n",
       "            <td>Balls to the Wall</td>\n",
       "        </tr>\n",
       "        <tr>\n",
       "            <td>3</td>\n",
       "            <td>Restless and Wild</td>\n",
       "        </tr>\n",
       "        <tr>\n",
       "            <td>8</td>\n",
       "            <td>Let There Be Rock</td>\n",
       "        </tr>\n",
       "        <tr>\n",
       "            <td>15</td>\n",
       "            <td>Big Ones</td>\n",
       "        </tr>\n",
       "        <tr>\n",
       "            <td>13</td>\n",
       "            <td>Jagged Little Pill</td>\n",
       "        </tr>\n",
       "        <tr>\n",
       "            <td>12</td>\n",
       "            <td>Facelift</td>\n",
       "        </tr>\n",
       "        <tr>\n",
       "            <td>14</td>\n",
       "            <td>Warner 25 Anos</td>\n",
       "        </tr>\n",
       "        <tr>\n",
       "            <td>8</td>\n",
       "            <td>Plays Metallica By Four Cellos</td>\n",
       "        </tr>\n",
       "        <tr>\n",
       "            <td>14</td>\n",
       "            <td>Audioslave</td>\n",
       "        </tr>\n",
       "    </tbody>\n",
       "</table>"
      ],
      "text/plain": [
       "[(10, 'For Those About To Rock We Salute You'),\n",
       " (1, 'Balls to the Wall'),\n",
       " (3, 'Restless and Wild'),\n",
       " (8, 'Let There Be Rock'),\n",
       " (15, 'Big Ones'),\n",
       " (13, 'Jagged Little Pill'),\n",
       " (12, 'Facelift'),\n",
       " (14, 'Warner 25 Anos'),\n",
       " (8, 'Plays Metallica By Four Cellos'),\n",
       " (14, 'Audioslave')]"
      ]
     },
     "execution_count": 18,
     "metadata": {},
     "output_type": "execute_result"
    }
   ],
   "source": [
    "%%sql\n",
    "\n",
    "SELECT COUNT(Track.AlbumID) AS TotalNumberOfTracks, Album.Title\n",
    "FROM Track\n",
    "LEFT JOIN Album ON Album.AlbumID = Track.AlbumID\n",
    "GROUP BY Album.AlbumID, Album.Title\n",
    "LIMIT 10"
   ]
  },
  {
   "cell_type": "markdown",
   "id": "d993883e",
   "metadata": {},
   "source": [
    "Display the names of all albums that have a track with the genre name 'Rock'."
   ]
  },
  {
   "cell_type": "code",
   "execution_count": 21,
   "id": "755cc036",
   "metadata": {
    "vscode": {
     "languageId": "sql"
    }
   },
   "outputs": [
    {
     "name": "stdout",
     "output_type": "stream",
     "text": [
      " * sqlite:///Chinook_Sqlite.sqlite\n",
      "Done.\n"
     ]
    },
    {
     "data": {
      "text/html": [
       "<table>\n",
       "    <thead>\n",
       "        <tr>\n",
       "            <th>Title</th>\n",
       "        </tr>\n",
       "    </thead>\n",
       "    <tbody>\n",
       "        <tr>\n",
       "            <td>For Those About To Rock We Salute You</td>\n",
       "        </tr>\n",
       "        <tr>\n",
       "            <td>Balls to the Wall</td>\n",
       "        </tr>\n",
       "        <tr>\n",
       "            <td>Restless and Wild</td>\n",
       "        </tr>\n",
       "        <tr>\n",
       "            <td>Let There Be Rock</td>\n",
       "        </tr>\n",
       "        <tr>\n",
       "            <td>Big Ones</td>\n",
       "        </tr>\n",
       "        <tr>\n",
       "            <td>Jagged Little Pill</td>\n",
       "        </tr>\n",
       "        <tr>\n",
       "            <td>Facelift</td>\n",
       "        </tr>\n",
       "        <tr>\n",
       "            <td>Audioslave</td>\n",
       "        </tr>\n",
       "        <tr>\n",
       "            <td>BBC Sessions [Disc 1] [Live]</td>\n",
       "        </tr>\n",
       "        <tr>\n",
       "            <td>Bongo Fury</td>\n",
       "        </tr>\n",
       "    </tbody>\n",
       "</table>"
      ],
      "text/plain": [
       "[('For Those About To Rock We Salute You',),\n",
       " ('Balls to the Wall',),\n",
       " ('Restless and Wild',),\n",
       " ('Let There Be Rock',),\n",
       " ('Big Ones',),\n",
       " ('Jagged Little Pill',),\n",
       " ('Facelift',),\n",
       " ('Audioslave',),\n",
       " ('BBC Sessions [Disc 1] [Live]',),\n",
       " ('Bongo Fury',)]"
      ]
     },
     "execution_count": 21,
     "metadata": {},
     "output_type": "execute_result"
    }
   ],
   "source": [
    "%%sql\n",
    "\n",
    "SELECT DISTINCT a.Title\n",
    "FROM Album a\n",
    "LEFT JOIN Track t ON a.AlbumID = t.AlbumID\n",
    "LEFT JOIN Genre g ON t.GenreID = g.GenreID\n",
    "WHERE g.Name  = \"Rock\"\n",
    "LIMIT 10"
   ]
  },
  {
   "cell_type": "markdown",
   "id": "008f9082",
   "metadata": {},
   "source": [
    "Get a list of all artists and all customers who live in 'Canada'. Include a column that indicates whether the name belongs to an 'Artist' or a 'Customer'."
   ]
  },
  {
   "cell_type": "code",
   "execution_count": 25,
   "id": "cf362846",
   "metadata": {
    "vscode": {
     "languageId": "sql"
    }
   },
   "outputs": [
    {
     "name": "stdout",
     "output_type": "stream",
     "text": [
      " * sqlite:///Chinook_Sqlite.sqlite\n",
      "Done.\n"
     ]
    },
    {
     "data": {
      "text/html": [
       "<table>\n",
       "    <thead>\n",
       "        <tr>\n",
       "            <th>FullName</th>\n",
       "            <th>Type</th>\n",
       "        </tr>\n",
       "    </thead>\n",
       "    <tbody>\n",
       "        <tr>\n",
       "            <td>Aaron Mitchell</td>\n",
       "            <td>Customer</td>\n",
       "        </tr>\n",
       "        <tr>\n",
       "            <td>Andrew Adams</td>\n",
       "            <td>Employee</td>\n",
       "        </tr>\n",
       "        <tr>\n",
       "            <td>Edward Francis</td>\n",
       "            <td>Customer</td>\n",
       "        </tr>\n",
       "        <tr>\n",
       "            <td>Ellie Sullivan</td>\n",
       "            <td>Customer</td>\n",
       "        </tr>\n",
       "        <tr>\n",
       "            <td>François Tremblay</td>\n",
       "            <td>Customer</td>\n",
       "        </tr>\n",
       "        <tr>\n",
       "            <td>Jane Peacock</td>\n",
       "            <td>Employee</td>\n",
       "        </tr>\n",
       "        <tr>\n",
       "            <td>Jennifer Peterson</td>\n",
       "            <td>Customer</td>\n",
       "        </tr>\n",
       "        <tr>\n",
       "            <td>Laura Callahan</td>\n",
       "            <td>Employee</td>\n",
       "        </tr>\n",
       "        <tr>\n",
       "            <td>Margaret Park</td>\n",
       "            <td>Employee</td>\n",
       "        </tr>\n",
       "        <tr>\n",
       "            <td>Mark Philips</td>\n",
       "            <td>Customer</td>\n",
       "        </tr>\n",
       "        <tr>\n",
       "            <td>Martha Silk</td>\n",
       "            <td>Customer</td>\n",
       "        </tr>\n",
       "        <tr>\n",
       "            <td>Michael Mitchell</td>\n",
       "            <td>Employee</td>\n",
       "        </tr>\n",
       "        <tr>\n",
       "            <td>Nancy Edwards</td>\n",
       "            <td>Employee</td>\n",
       "        </tr>\n",
       "        <tr>\n",
       "            <td>Robert Brown</td>\n",
       "            <td>Customer</td>\n",
       "        </tr>\n",
       "        <tr>\n",
       "            <td>Robert King</td>\n",
       "            <td>Employee</td>\n",
       "        </tr>\n",
       "        <tr>\n",
       "            <td>Steve Johnson</td>\n",
       "            <td>Employee</td>\n",
       "        </tr>\n",
       "    </tbody>\n",
       "</table>"
      ],
      "text/plain": [
       "[('Aaron Mitchell', 'Customer'),\n",
       " ('Andrew Adams', 'Employee'),\n",
       " ('Edward Francis', 'Customer'),\n",
       " ('Ellie Sullivan', 'Customer'),\n",
       " ('François Tremblay', 'Customer'),\n",
       " ('Jane Peacock', 'Employee'),\n",
       " ('Jennifer Peterson', 'Customer'),\n",
       " ('Laura Callahan', 'Employee'),\n",
       " ('Margaret Park', 'Employee'),\n",
       " ('Mark Philips', 'Customer'),\n",
       " ('Martha Silk', 'Customer'),\n",
       " ('Michael Mitchell', 'Employee'),\n",
       " ('Nancy Edwards', 'Employee'),\n",
       " ('Robert Brown', 'Customer'),\n",
       " ('Robert King', 'Employee'),\n",
       " ('Steve Johnson', 'Employee')]"
      ]
     },
     "execution_count": 25,
     "metadata": {},
     "output_type": "execute_result"
    }
   ],
   "source": [
    "%%sql\n",
    "\n",
    "SELECT FirstName || \" \" || LastName AS FullName, \"Customer\" AS Type\n",
    "FROM Customer\n",
    "WHERE Country = \"Canada\"\n",
    "UNION\n",
    "SELECT FirstName || \" \" || LastName AS FullName, \"Employee\" AS Type\n",
    "FROM Employee\n",
    "WHERE Country = \"Canada\""
   ]
  },
  {
   "cell_type": "markdown",
   "id": "11816403",
   "metadata": {},
   "source": [
    "Find the names of all employees and the names of the customers they support, but only for customers who have an email address that contains the word 'gmail'."
   ]
  },
  {
   "cell_type": "code",
   "execution_count": 26,
   "id": "34ce994c",
   "metadata": {
    "vscode": {
     "languageId": "sql"
    }
   },
   "outputs": [
    {
     "name": "stdout",
     "output_type": "stream",
     "text": [
      " * sqlite:///Chinook_Sqlite.sqlite\n",
      "Done.\n"
     ]
    },
    {
     "data": {
      "text/html": [
       "<table>\n",
       "    <thead>\n",
       "        <tr>\n",
       "            <th>EmployeeName</th>\n",
       "            <th>SupportedCustomer</th>\n",
       "            <th>Email</th>\n",
       "        </tr>\n",
       "    </thead>\n",
       "    <tbody>\n",
       "        <tr>\n",
       "            <td>Jane Peacock</td>\n",
       "            <td>François Tremblay</td>\n",
       "            <td>ftremblay@gmail.com</td>\n",
       "        </tr>\n",
       "        <tr>\n",
       "            <td>Jane Peacock</td>\n",
       "            <td>Frank Ralston</td>\n",
       "            <td>fralston@gmail.com</td>\n",
       "        </tr>\n",
       "        <tr>\n",
       "            <td>Jane Peacock</td>\n",
       "            <td>Phil Hughes</td>\n",
       "            <td>phil.hughes@gmail.com</td>\n",
       "        </tr>\n",
       "        <tr>\n",
       "            <td>Margaret Park</td>\n",
       "            <td>Heather Leacock</td>\n",
       "            <td>hleacock@gmail.com</td>\n",
       "        </tr>\n",
       "        <tr>\n",
       "            <td>Margaret Park</td>\n",
       "            <td>Dominique Lefebvre</td>\n",
       "            <td>dominiquelefebvre@gmail.com</td>\n",
       "        </tr>\n",
       "        <tr>\n",
       "            <td>Steve Johnson</td>\n",
       "            <td>Helena Holý</td>\n",
       "            <td>hholy@gmail.com</td>\n",
       "        </tr>\n",
       "        <tr>\n",
       "            <td>Steve Johnson</td>\n",
       "            <td>Julia Barnett</td>\n",
       "            <td>jubarnett@gmail.com</td>\n",
       "        </tr>\n",
       "        <tr>\n",
       "            <td>Steve Johnson</td>\n",
       "            <td>Martha Silk</td>\n",
       "            <td>marthasilk@gmail.com</td>\n",
       "        </tr>\n",
       "    </tbody>\n",
       "</table>"
      ],
      "text/plain": [
       "[('Jane Peacock', 'François Tremblay', 'ftremblay@gmail.com'),\n",
       " ('Jane Peacock', 'Frank Ralston', 'fralston@gmail.com'),\n",
       " ('Jane Peacock', 'Phil Hughes', 'phil.hughes@gmail.com'),\n",
       " ('Margaret Park', 'Heather Leacock', 'hleacock@gmail.com'),\n",
       " ('Margaret Park', 'Dominique Lefebvre', 'dominiquelefebvre@gmail.com'),\n",
       " ('Steve Johnson', 'Helena Holý', 'hholy@gmail.com'),\n",
       " ('Steve Johnson', 'Julia Barnett', 'jubarnett@gmail.com'),\n",
       " ('Steve Johnson', 'Martha Silk', 'marthasilk@gmail.com')]"
      ]
     },
     "execution_count": 26,
     "metadata": {},
     "output_type": "execute_result"
    }
   ],
   "source": [
    "%%sql\n",
    "\n",
    "SELECT e.FirstName || \" \" || e.LastName AS EmployeeName, c.FirstName || \" \" || c.LastName AS SupportedCustomer, c.Email\n",
    "From Employee e\n",
    "LEFT JOIN Customer c ON c.SupportRepID = e.EmployeeID\n",
    "WHERE c.Email LIKE \"%gmail%\""
   ]
  },
  {
   "cell_type": "markdown",
   "id": "5bf6477a",
   "metadata": {},
   "source": [
    "Find the names of all employees who have a direct report (meaning someone reports to them) and also have sold more than 50 total invoices. List the employee's full name, their total number of direct reports, and the total number of invoices they sold."
   ]
  },
  {
   "cell_type": "code",
   "execution_count": 30,
   "id": "aea17c36",
   "metadata": {
    "vscode": {
     "languageId": "sql"
    }
   },
   "outputs": [
    {
     "name": "stdout",
     "output_type": "stream",
     "text": [
      " * sqlite:///Chinook_Sqlite.sqlite\n",
      "Done.\n"
     ]
    },
    {
     "data": {
      "text/html": [
       "<table>\n",
       "    <thead>\n",
       "        <tr>\n",
       "            <th>EmployeeName</th>\n",
       "            <th>DirectReports</th>\n",
       "            <th>InvoiceCount</th>\n",
       "        </tr>\n",
       "    </thead>\n",
       "    <tbody>\n",
       "    </tbody>\n",
       "</table>"
      ],
      "text/plain": [
       "[]"
      ]
     },
     "execution_count": 30,
     "metadata": {},
     "output_type": "execute_result"
    }
   ],
   "source": [
    "%%sql\n",
    "\n",
    "SELECT e2.FirstName || \" \" || e2.LastName AS EmployeeName, COUNT(e1.ReportsTo) AS DirectReports, COUNT(i.CustomerID) AS InvoiceCount\n",
    "FROM Employee e1\n",
    "LEFT JOIN Employee e2 ON e1.ReportsTo = e2.EmployeeID\n",
    "LEFT JOIN Customer c ON c.SupportRepID = e2.EmployeeID\n",
    "LEFT JOIN Invoice i ON i.CustomerID = c.CustomerID\n",
    "GROUP BY e2.EmployeeID\n",
    "HAVING InvoiceCount > 50"
   ]
  },
  {
   "cell_type": "markdown",
   "id": "e18ebcd2",
   "metadata": {},
   "source": [
    "List the titles of all albums that contain only 'Rock' and 'Pop' genres."
   ]
  },
  {
   "cell_type": "code",
   "execution_count": 31,
   "id": "6af45a9c",
   "metadata": {
    "vscode": {
     "languageId": "sql"
    }
   },
   "outputs": [
    {
     "name": "stdout",
     "output_type": "stream",
     "text": [
      " * sqlite:///Chinook_Sqlite.sqlite\n",
      "Done.\n"
     ]
    },
    {
     "data": {
      "text/html": [
       "<table>\n",
       "    <thead>\n",
       "        <tr>\n",
       "            <th>Title</th>\n",
       "        </tr>\n",
       "    </thead>\n",
       "    <tbody>\n",
       "    </tbody>\n",
       "</table>"
      ],
      "text/plain": [
       "[]"
      ]
     },
     "execution_count": 31,
     "metadata": {},
     "output_type": "execute_result"
    }
   ],
   "source": [
    "%%sql\n",
    "\n",
    "SELECT a.Title\n",
    "FROM Album a\n",
    "LEFT JOIN Track t ON t.AlbumID = a.AlbumID\n",
    "LEFT JOIN Genre g ON g.GenreID = t.GenreID\n",
    "WHERE g.Name IN (\"Rock\",\"Pop\")\n",
    "GROUP BY a.AlbumID\n",
    "HAVING COUNT(DISTINCT g.Name) = 2"
   ]
  },
  {
   "cell_type": "markdown",
   "id": "b4fc7e02",
   "metadata": {},
   "source": [
    "Display a list of all artists. For each artist, show their name and the total number of tracks they have on the InvoiceLine table. If an artist has no tracks on any invoice, they should still be included in the list, with a count of 0. Order the result by the number of tracks sold, from most to least."
   ]
  },
  {
   "cell_type": "code",
   "execution_count": 6,
   "id": "fb235425",
   "metadata": {
    "vscode": {
     "languageId": "sql"
    }
   },
   "outputs": [
    {
     "name": "stdout",
     "output_type": "stream",
     "text": [
      " * sqlite:///Chinook_Sqlite.sqlite\n",
      "Done.\n"
     ]
    },
    {
     "data": {
      "text/html": [
       "<table>\n",
       "    <thead>\n",
       "        <tr>\n",
       "            <th>Name</th>\n",
       "            <th>NumberOfTracks</th>\n",
       "        </tr>\n",
       "    </thead>\n",
       "    <tbody>\n",
       "        <tr>\n",
       "            <td>Iron Maiden</td>\n",
       "            <td>140</td>\n",
       "        </tr>\n",
       "        <tr>\n",
       "            <td>U2</td>\n",
       "            <td>107</td>\n",
       "        </tr>\n",
       "        <tr>\n",
       "            <td>Metallica</td>\n",
       "            <td>91</td>\n",
       "        </tr>\n",
       "        <tr>\n",
       "            <td>Led Zeppelin</td>\n",
       "            <td>87</td>\n",
       "        </tr>\n",
       "        <tr>\n",
       "            <td>Os Paralamas Do Sucesso</td>\n",
       "            <td>45</td>\n",
       "        </tr>\n",
       "        <tr>\n",
       "            <td>Deep Purple</td>\n",
       "            <td>44</td>\n",
       "        </tr>\n",
       "        <tr>\n",
       "            <td>Faith No More</td>\n",
       "            <td>42</td>\n",
       "        </tr>\n",
       "        <tr>\n",
       "            <td>Lost</td>\n",
       "            <td>41</td>\n",
       "        </tr>\n",
       "        <tr>\n",
       "            <td>Eric Clapton</td>\n",
       "            <td>40</td>\n",
       "        </tr>\n",
       "        <tr>\n",
       "            <td>R.E.M.</td>\n",
       "            <td>39</td>\n",
       "        </tr>\n",
       "    </tbody>\n",
       "</table>"
      ],
      "text/plain": [
       "[('Iron Maiden', 140),\n",
       " ('U2', 107),\n",
       " ('Metallica', 91),\n",
       " ('Led Zeppelin', 87),\n",
       " ('Os Paralamas Do Sucesso', 45),\n",
       " ('Deep Purple', 44),\n",
       " ('Faith No More', 42),\n",
       " ('Lost', 41),\n",
       " ('Eric Clapton', 40),\n",
       " ('R.E.M.', 39)]"
      ]
     },
     "execution_count": 6,
     "metadata": {},
     "output_type": "execute_result"
    }
   ],
   "source": [
    "%%sql\n",
    "\n",
    "SELECT ar.Name, COUNT(i.TrackID) AS NumberOfTracks\n",
    "FROM Artist AS ar \n",
    "LEFT JOIN Album AS al ON al.ArtistID = ar.ArtistID\n",
    "LEFT JOIN Track AS t ON t.AlbumID = al.AlbumID\n",
    "LEFT JOIN InvoiceLine AS i ON i.TrackID = t.TrackID\n",
    "GROUP BY ar.ArtistID\n",
    "ORDER BY NumberOfTracks DESC\n",
    "LIMIT 10\n"
   ]
  },
  {
   "cell_type": "markdown",
   "id": "1bd8afc0",
   "metadata": {},
   "source": [
    "Find the names of all customers who have made a purchase in 'USA' and 'Canada'."
   ]
  },
  {
   "cell_type": "code",
   "execution_count": 11,
   "id": "4a9fa08b",
   "metadata": {
    "vscode": {
     "languageId": "sql"
    }
   },
   "outputs": [
    {
     "name": "stdout",
     "output_type": "stream",
     "text": [
      " * sqlite:///Chinook_Sqlite.sqlite\n",
      "Done.\n"
     ]
    },
    {
     "data": {
      "text/html": [
       "<table>\n",
       "    <thead>\n",
       "        <tr>\n",
       "            <th>CustomerName</th>\n",
       "        </tr>\n",
       "    </thead>\n",
       "    <tbody>\n",
       "    </tbody>\n",
       "</table>"
      ],
      "text/plain": [
       "[]"
      ]
     },
     "execution_count": 11,
     "metadata": {},
     "output_type": "execute_result"
    }
   ],
   "source": [
    "%%sql\n",
    "\n",
    "SELECT DISTINCT c.FirstName || ' ' || c.LastName AS CustomerName\n",
    "FROM Customer c\n",
    "JOIN Invoice i1 ON c.CustomerId = i1.CustomerId AND i1.BillingCountry = 'USA'\n",
    "JOIN Invoice i2 ON c.CustomerId = i2.CustomerId AND i2.BillingCountry = 'Canada';"
   ]
  },
  {
   "cell_type": "markdown",
   "id": "4163f3de",
   "metadata": {},
   "source": [
    "List the artists who have at least one album, but do not have any tracks on the InvoiceLine table."
   ]
  },
  {
   "cell_type": "code",
   "execution_count": 14,
   "id": "c95b8e27",
   "metadata": {
    "vscode": {
     "languageId": "sql"
    }
   },
   "outputs": [
    {
     "name": "stdout",
     "output_type": "stream",
     "text": [
      " * sqlite:///Chinook_Sqlite.sqlite\n",
      "Done.\n"
     ]
    },
    {
     "data": {
      "text/html": [
       "<table>\n",
       "    <thead>\n",
       "        <tr>\n",
       "            <th>Name</th>\n",
       "        </tr>\n",
       "    </thead>\n",
       "    <tbody>\n",
       "        <tr>\n",
       "            <td>Cake</td>\n",
       "        </tr>\n",
       "        <tr>\n",
       "            <td>Aisha Duo</td>\n",
       "        </tr>\n",
       "        <tr>\n",
       "            <td>Karsh Kale</td>\n",
       "        </tr>\n",
       "        <tr>\n",
       "            <td>Aaron Goldberg</td>\n",
       "        </tr>\n",
       "        <tr>\n",
       "            <td>Nicolaus Esterhazy Sinfonia</td>\n",
       "        </tr>\n",
       "        <tr>\n",
       "            <td>Alberto Turco &amp; Nova Schola Gregoriana</td>\n",
       "        </tr>\n",
       "        <tr>\n",
       "            <td>Richard Marlow &amp; The Choir of Trinity College, Cambridge</td>\n",
       "        </tr>\n",
       "        <tr>\n",
       "            <td>Anne-Sophie Mutter, Herbert Von Karajan &amp; Wiener Philharmoniker</td>\n",
       "        </tr>\n",
       "        <tr>\n",
       "            <td>Hilary Hahn, Jeffrey Kahane, Los Angeles Chamber Orchestra &amp; Margaret Batjer</td>\n",
       "        </tr>\n",
       "        <tr>\n",
       "            <td>Wilhelm Kempff</td>\n",
       "        </tr>\n",
       "        <tr>\n",
       "            <td>Academy of St. Martin in the Fields Chamber Ensemble &amp; Sir Neville Marriner</td>\n",
       "        </tr>\n",
       "        <tr>\n",
       "            <td>Berliner Philharmoniker, Claudio Abbado &amp; Sabine Meyer</td>\n",
       "        </tr>\n",
       "        <tr>\n",
       "            <td>Orchestre Révolutionnaire et Romantique &amp; John Eliot Gardiner</td>\n",
       "        </tr>\n",
       "        <tr>\n",
       "            <td>Britten Sinfonia, Ivor Bolton &amp; Lesley Garrett</td>\n",
       "        </tr>\n",
       "        <tr>\n",
       "            <td>Chicago Symphony Chorus, Chicago Symphony Orchestra &amp; Sir Georg Solti</td>\n",
       "        </tr>\n",
       "        <tr>\n",
       "            <td>London Symphony Orchestra &amp; Sir Charles Mackerras</td>\n",
       "        </tr>\n",
       "        <tr>\n",
       "            <td>Barry Wordsworth &amp; BBC Concert Orchestra</td>\n",
       "        </tr>\n",
       "        <tr>\n",
       "            <td>Herbert Von Karajan, Mirella Freni &amp; Wiener Philharmoniker</td>\n",
       "        </tr>\n",
       "        <tr>\n",
       "            <td>Luciano Pavarotti</td>\n",
       "        </tr>\n",
       "        <tr>\n",
       "            <td>Leonard Bernstein &amp; New York Philharmonic</td>\n",
       "        </tr>\n",
       "        <tr>\n",
       "            <td>Boston Symphony Orchestra &amp; Seiji Ozawa</td>\n",
       "        </tr>\n",
       "        <tr>\n",
       "            <td>Aaron Copland &amp; London Symphony Orchestra</td>\n",
       "        </tr>\n",
       "        <tr>\n",
       "            <td>Ton Koopman</td>\n",
       "        </tr>\n",
       "        <tr>\n",
       "            <td>Sergei Prokofiev &amp; Yuri Temirkanov</td>\n",
       "        </tr>\n",
       "        <tr>\n",
       "            <td>James Levine</td>\n",
       "        </tr>\n",
       "        <tr>\n",
       "            <td>Gustav Mahler</td>\n",
       "        </tr>\n",
       "        <tr>\n",
       "            <td>Choir Of Westminster Abbey &amp; Simon Preston</td>\n",
       "        </tr>\n",
       "        <tr>\n",
       "            <td>Chor der Wiener Staatsoper, Herbert Von Karajan &amp; Wiener Philharmoniker</td>\n",
       "        </tr>\n",
       "        <tr>\n",
       "            <td>Sir Georg Solti, Sumi Jo &amp; Wiener Philharmoniker</td>\n",
       "        </tr>\n",
       "        <tr>\n",
       "            <td>Christopher O&#x27;Riley</td>\n",
       "        </tr>\n",
       "        <tr>\n",
       "            <td>Fretwork</td>\n",
       "        </tr>\n",
       "        <tr>\n",
       "            <td>Les Arts Florissants &amp; William Christie</td>\n",
       "        </tr>\n",
       "        <tr>\n",
       "            <td>Charles Dutoit &amp; L&#x27;Orchestre Symphonique de Montréal</td>\n",
       "        </tr>\n",
       "        <tr>\n",
       "            <td>Itzhak Perlman</td>\n",
       "        </tr>\n",
       "        <tr>\n",
       "            <td>Gerald Moore</td>\n",
       "        </tr>\n",
       "        <tr>\n",
       "            <td>Mela Tenenbaum, Pro Musica Prague &amp; Richard Kapp</td>\n",
       "        </tr>\n",
       "        <tr>\n",
       "            <td>C. Monteverdi, Nigel Rogers - Chiaroscuro; London Baroque; London Cornett &amp; Sackbu</td>\n",
       "        </tr>\n",
       "        <tr>\n",
       "            <td>Nash Ensemble</td>\n",
       "        </tr>\n",
       "        <tr>\n",
       "            <td>Philip Glass Ensemble</td>\n",
       "        </tr>\n",
       "    </tbody>\n",
       "</table>"
      ],
      "text/plain": [
       "[('Cake',),\n",
       " ('Aisha Duo',),\n",
       " ('Karsh Kale',),\n",
       " ('Aaron Goldberg',),\n",
       " ('Nicolaus Esterhazy Sinfonia',),\n",
       " ('Alberto Turco & Nova Schola Gregoriana',),\n",
       " ('Richard Marlow & The Choir of Trinity College, Cambridge',),\n",
       " ('Anne-Sophie Mutter, Herbert Von Karajan & Wiener Philharmoniker',),\n",
       " ('Hilary Hahn, Jeffrey Kahane, Los Angeles Chamber Orchestra & Margaret Batjer',),\n",
       " ('Wilhelm Kempff',),\n",
       " ('Academy of St. Martin in the Fields Chamber Ensemble & Sir Neville Marriner',),\n",
       " ('Berliner Philharmoniker, Claudio Abbado & Sabine Meyer',),\n",
       " ('Orchestre Révolutionnaire et Romantique & John Eliot Gardiner',),\n",
       " ('Britten Sinfonia, Ivor Bolton & Lesley Garrett',),\n",
       " ('Chicago Symphony Chorus, Chicago Symphony Orchestra & Sir Georg Solti',),\n",
       " ('London Symphony Orchestra & Sir Charles Mackerras',),\n",
       " ('Barry Wordsworth & BBC Concert Orchestra',),\n",
       " ('Herbert Von Karajan, Mirella Freni & Wiener Philharmoniker',),\n",
       " ('Luciano Pavarotti',),\n",
       " ('Leonard Bernstein & New York Philharmonic',),\n",
       " ('Boston Symphony Orchestra & Seiji Ozawa',),\n",
       " ('Aaron Copland & London Symphony Orchestra',),\n",
       " ('Ton Koopman',),\n",
       " ('Sergei Prokofiev & Yuri Temirkanov',),\n",
       " ('James Levine',),\n",
       " ('Gustav Mahler',),\n",
       " ('Choir Of Westminster Abbey & Simon Preston',),\n",
       " ('Chor der Wiener Staatsoper, Herbert Von Karajan & Wiener Philharmoniker',),\n",
       " ('Sir Georg Solti, Sumi Jo & Wiener Philharmoniker',),\n",
       " (\"Christopher O'Riley\",),\n",
       " ('Fretwork',),\n",
       " ('Les Arts Florissants & William Christie',),\n",
       " (\"Charles Dutoit & L'Orchestre Symphonique de Montréal\",),\n",
       " ('Itzhak Perlman',),\n",
       " ('Gerald Moore',),\n",
       " ('Mela Tenenbaum, Pro Musica Prague & Richard Kapp',),\n",
       " ('C. Monteverdi, Nigel Rogers - Chiaroscuro; London Baroque; London Cornett & Sackbu',),\n",
       " ('Nash Ensemble',),\n",
       " ('Philip Glass Ensemble',)]"
      ]
     },
     "execution_count": 14,
     "metadata": {},
     "output_type": "execute_result"
    }
   ],
   "source": [
    "%%sql\n",
    "\n",
    "SELECT ar.Name\n",
    "FROM Artist AS ar \n",
    "LEFT JOIN Album AS al ON al.ArtistID = ar.ArtistID\n",
    "LEFT JOIN Track AS t On t.AlbumID = al.AlbumID\n",
    "LEFT JOIN InvoiceLine AS i ON i.TrackID = t.TrackID\n",
    "GROUP BY ar.ArtistID\n",
    "HAVING COUNT(i.TrackID) = 0 AND COUNT(al.AlbumID) > 0"
   ]
  }
 ],
 "metadata": {
  "kernelspec": {
   "display_name": "stocks",
   "language": "python",
   "name": "python3"
  },
  "language_info": {
   "codemirror_mode": {
    "name": "ipython",
    "version": 3
   },
   "file_extension": ".py",
   "mimetype": "text/x-python",
   "name": "python",
   "nbconvert_exporter": "python",
   "pygments_lexer": "ipython3",
   "version": "3.10.18"
  }
 },
 "nbformat": 4,
 "nbformat_minor": 5
}
